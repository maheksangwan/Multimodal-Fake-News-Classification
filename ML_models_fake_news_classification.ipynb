{
 "cells": [
  {
   "cell_type": "markdown",
   "metadata": {},
   "source": [
    "# Fake News Classification:"
   ]
  },
  {
   "cell_type": "markdown",
   "metadata": {},
   "source": [
    "# Import Libraries:"
   ]
  },
  {
   "cell_type": "code",
   "execution_count": 1,
   "metadata": {
    "_cell_guid": "b1076dfc-b9ad-4769-8c92-a6c4dae69d19",
    "_uuid": "8f2839f25d086af736a60e9eeb907d3b93b6e0e5"
   },
   "outputs": [],
   "source": [
    "import numpy as np \n",
    "import pandas as pd \n",
    "from tqdm import tqdm\n",
    "import urllib\n",
    "import cv2\n",
    "import random\n",
    "\n",
    "import matplotlib.pyplot as plt\n",
    "import seaborn as sns\n",
    "import warnings\n",
    "warnings.filterwarnings(\"ignore\")"
   ]
  },
  {
   "cell_type": "markdown",
   "metadata": {},
   "source": [
    "# Data Cleaning and Analysis:"
   ]
  },
  {
   "cell_type": "code",
   "execution_count": 2,
   "metadata": {},
   "outputs": [
    {
     "name": "stdout",
     "output_type": "stream",
     "text": [
      "(564000, 16)\n",
      "(59342, 16)\n",
      "(59319, 16)\n"
     ]
    }
   ],
   "source": [
    "tr_data=pd.read_csv(\"multimodal_train.tsv\",sep=\"\\t\")\n",
    "vl_data=pd.read_csv('multimodal_validate.tsv',sep=\"\\t\")\n",
    "te_data=pd.read_csv('multimodal_test_public.tsv',sep=\"\\t\")\n",
    "\n",
    "print(tr_data.shape)\n",
    "print(vl_data.shape)\n",
    "print(te_data.shape)"
   ]
  },
  {
   "cell_type": "code",
   "execution_count": 3,
   "metadata": {},
   "outputs": [
    {
     "data": {
      "text/html": [
       "<div>\n",
       "<style scoped>\n",
       "    .dataframe tbody tr th:only-of-type {\n",
       "        vertical-align: middle;\n",
       "    }\n",
       "\n",
       "    .dataframe tbody tr th {\n",
       "        vertical-align: top;\n",
       "    }\n",
       "\n",
       "    .dataframe thead th {\n",
       "        text-align: right;\n",
       "    }\n",
       "</style>\n",
       "<table border=\"1\" class=\"dataframe\">\n",
       "  <thead>\n",
       "    <tr style=\"text-align: right;\">\n",
       "      <th></th>\n",
       "      <th>created_utc</th>\n",
       "      <th>num_comments</th>\n",
       "      <th>score</th>\n",
       "      <th>upvote_ratio</th>\n",
       "      <th>2_way_label</th>\n",
       "      <th>3_way_label</th>\n",
       "      <th>6_way_label</th>\n",
       "    </tr>\n",
       "  </thead>\n",
       "  <tbody>\n",
       "    <tr>\n",
       "      <th>count</th>\n",
       "      <td>5.640000e+05</td>\n",
       "      <td>396143.000000</td>\n",
       "      <td>564000.000000</td>\n",
       "      <td>396143.000000</td>\n",
       "      <td>564000.000000</td>\n",
       "      <td>564000.000000</td>\n",
       "      <td>564000.000000</td>\n",
       "    </tr>\n",
       "    <tr>\n",
       "      <th>mean</th>\n",
       "      <td>1.478727e+09</td>\n",
       "      <td>20.363525</td>\n",
       "      <td>395.449160</td>\n",
       "      <td>0.855361</td>\n",
       "      <td>0.393761</td>\n",
       "      <td>1.187926</td>\n",
       "      <td>1.884012</td>\n",
       "    </tr>\n",
       "    <tr>\n",
       "      <th>std</th>\n",
       "      <td>6.970407e+07</td>\n",
       "      <td>141.460211</td>\n",
       "      <td>3049.910636</td>\n",
       "      <td>0.110111</td>\n",
       "      <td>0.488583</td>\n",
       "      <td>0.969604</td>\n",
       "      <td>1.782309</td>\n",
       "    </tr>\n",
       "    <tr>\n",
       "      <th>min</th>\n",
       "      <td>1.212297e+09</td>\n",
       "      <td>0.000000</td>\n",
       "      <td>-950.000000</td>\n",
       "      <td>0.500000</td>\n",
       "      <td>0.000000</td>\n",
       "      <td>0.000000</td>\n",
       "      <td>0.000000</td>\n",
       "    </tr>\n",
       "    <tr>\n",
       "      <th>25%</th>\n",
       "      <td>1.418176e+09</td>\n",
       "      <td>1.000000</td>\n",
       "      <td>5.000000</td>\n",
       "      <td>0.780000</td>\n",
       "      <td>0.000000</td>\n",
       "      <td>0.000000</td>\n",
       "      <td>0.000000</td>\n",
       "    </tr>\n",
       "    <tr>\n",
       "      <th>50%</th>\n",
       "      <td>1.488981e+09</td>\n",
       "      <td>2.000000</td>\n",
       "      <td>14.000000</td>\n",
       "      <td>0.880000</td>\n",
       "      <td>0.000000</td>\n",
       "      <td>2.000000</td>\n",
       "      <td>2.000000</td>\n",
       "    </tr>\n",
       "    <tr>\n",
       "      <th>75%</th>\n",
       "      <td>1.550486e+09</td>\n",
       "      <td>7.000000</td>\n",
       "      <td>46.000000</td>\n",
       "      <td>0.940000</td>\n",
       "      <td>1.000000</td>\n",
       "      <td>2.000000</td>\n",
       "      <td>4.000000</td>\n",
       "    </tr>\n",
       "    <tr>\n",
       "      <th>max</th>\n",
       "      <td>1.573859e+09</td>\n",
       "      <td>10783.000000</td>\n",
       "      <td>137179.000000</td>\n",
       "      <td>1.000000</td>\n",
       "      <td>1.000000</td>\n",
       "      <td>2.000000</td>\n",
       "      <td>5.000000</td>\n",
       "    </tr>\n",
       "  </tbody>\n",
       "</table>\n",
       "</div>"
      ],
      "text/plain": [
       "        created_utc   num_comments          score   upvote_ratio  \\\n",
       "count  5.640000e+05  396143.000000  564000.000000  396143.000000   \n",
       "mean   1.478727e+09      20.363525     395.449160       0.855361   \n",
       "std    6.970407e+07     141.460211    3049.910636       0.110111   \n",
       "min    1.212297e+09       0.000000    -950.000000       0.500000   \n",
       "25%    1.418176e+09       1.000000       5.000000       0.780000   \n",
       "50%    1.488981e+09       2.000000      14.000000       0.880000   \n",
       "75%    1.550486e+09       7.000000      46.000000       0.940000   \n",
       "max    1.573859e+09   10783.000000  137179.000000       1.000000   \n",
       "\n",
       "         2_way_label    3_way_label    6_way_label  \n",
       "count  564000.000000  564000.000000  564000.000000  \n",
       "mean        0.393761       1.187926       1.884012  \n",
       "std         0.488583       0.969604       1.782309  \n",
       "min         0.000000       0.000000       0.000000  \n",
       "25%         0.000000       0.000000       0.000000  \n",
       "50%         0.000000       2.000000       2.000000  \n",
       "75%         1.000000       2.000000       4.000000  \n",
       "max         1.000000       2.000000       5.000000  "
      ]
     },
     "execution_count": 3,
     "metadata": {},
     "output_type": "execute_result"
    }
   ],
   "source": [
    "tr_data.describe()"
   ]
  },
  {
   "cell_type": "code",
   "execution_count": 4,
   "metadata": {},
   "outputs": [
    {
     "data": {
      "text/plain": [
       "count     564000\n",
       "unique         1\n",
       "top         True\n",
       "freq      564000\n",
       "Name: hasImage, dtype: object"
      ]
     },
     "execution_count": 4,
     "metadata": {},
     "output_type": "execute_result"
    }
   ],
   "source": [
    "tr_data[\"hasImage\"].describe()"
   ]
  },
  {
   "cell_type": "code",
   "execution_count": 5,
   "metadata": {},
   "outputs": [
    {
     "data": {
      "text/plain": [
       "author                   28710\n",
       "clean_title                  0\n",
       "created_utc                  0\n",
       "domain                  167857\n",
       "hasImage                     0\n",
       "id                           0\n",
       "image_url                 1534\n",
       "linked_submission_id    396143\n",
       "num_comments            167857\n",
       "score                        0\n",
       "subreddit                    0\n",
       "title                        0\n",
       "upvote_ratio            167857\n",
       "2_way_label                  0\n",
       "3_way_label                  0\n",
       "6_way_label                  0\n",
       "dtype: int64"
      ]
     },
     "execution_count": 5,
     "metadata": {},
     "output_type": "execute_result"
    }
   ],
   "source": [
    "tr_data.isnull().sum()"
   ]
  },
  {
   "cell_type": "code",
   "execution_count": 6,
   "metadata": {},
   "outputs": [
    {
     "data": {
      "text/plain": [
       "author                   3063\n",
       "clean_title                 0\n",
       "created_utc                 0\n",
       "domain                  17810\n",
       "hasImage                    0\n",
       "id                          0\n",
       "image_url                 173\n",
       "linked_submission_id    41532\n",
       "num_comments            17810\n",
       "score                       0\n",
       "subreddit                   0\n",
       "title                       0\n",
       "upvote_ratio            17810\n",
       "2_way_label                 0\n",
       "3_way_label                 0\n",
       "6_way_label                 0\n",
       "dtype: int64"
      ]
     },
     "execution_count": 6,
     "metadata": {},
     "output_type": "execute_result"
    }
   ],
   "source": [
    "vl_data.isnull().sum()"
   ]
  },
  {
   "cell_type": "code",
   "execution_count": 7,
   "metadata": {},
   "outputs": [
    {
     "data": {
      "text/plain": [
       "author                   3068\n",
       "clean_title                 0\n",
       "created_utc                 0\n",
       "domain                  17472\n",
       "hasImage                    0\n",
       "id                          0\n",
       "image_url                 156\n",
       "linked_submission_id    41847\n",
       "num_comments            17472\n",
       "score                       0\n",
       "subreddit                   0\n",
       "title                       0\n",
       "upvote_ratio            17472\n",
       "2_way_label                 0\n",
       "3_way_label                 0\n",
       "6_way_label                 0\n",
       "dtype: int64"
      ]
     },
     "execution_count": 7,
     "metadata": {},
     "output_type": "execute_result"
    }
   ],
   "source": [
    "te_data.isnull().sum()"
   ]
  },
  {
   "cell_type": "code",
   "execution_count": 8,
   "metadata": {},
   "outputs": [
    {
     "data": {
      "text/plain": [
       "i.redd.it              176260\n",
       "i.imgur.com             74782\n",
       "imgur.com               29656\n",
       "i.reddituploads.com      3997\n",
       "theonion.com             3714\n",
       "Name: domain, dtype: int64"
      ]
     },
     "execution_count": 8,
     "metadata": {},
     "output_type": "execute_result"
    }
   ],
   "source": [
    "tr_data[\"domain\"].value_counts()[:5]"
   ]
  },
  {
   "cell_type": "code",
   "execution_count": 9,
   "metadata": {},
   "outputs": [
    {
     "data": {
      "text/plain": [
       "0.0    94725\n",
       "1.0    61657\n",
       "2.0    44296\n",
       "3.0    32610\n",
       "4.0    24630\n",
       "5.0    18434\n",
       "Name: num_comments, dtype: int64"
      ]
     },
     "execution_count": 9,
     "metadata": {},
     "output_type": "execute_result"
    }
   ],
   "source": [
    "tr_data[\"num_comments\"].value_counts()[:5]"
   ]
  },
  {
   "cell_type": "code",
   "execution_count": 10,
   "metadata": {},
   "outputs": [],
   "source": [
    "tr_data[\"num_comments\"]=tr_data[\"num_comments\"].replace(np.nan,0)\n",
    "vl_data[\"num_comments\"]=vl_data[\"num_comments\"].replace(np.nan,0)\n",
    "te_data[\"num_comments\"]=te_data[\"num_comments\"].replace(np.nan,0)"
   ]
  },
  {
   "cell_type": "code",
   "execution_count": 11,
   "metadata": {},
   "outputs": [
    {
     "data": {
      "text/plain": [
       "2    37329\n",
       "3    34478\n",
       "1    27650\n",
       "5    24870\n",
       "4    23594\n",
       "Name: score, dtype: int64"
      ]
     },
     "execution_count": 11,
     "metadata": {},
     "output_type": "execute_result"
    }
   ],
   "source": [
    "tr_data[\"score\"].value_counts()[:5]"
   ]
  },
  {
   "cell_type": "code",
   "execution_count": 12,
   "metadata": {},
   "outputs": [],
   "source": [
    "tr_data[\"score\"]=tr_data[\"score\"].replace(np.nan,2)\n",
    "vl_data[\"score\"]=vl_data[\"score\"].replace(np.nan,2)\n",
    "te_data[\"score\"]=te_data[\"score\"].replace(np.nan,2)\n",
    "\n",
    "tr_data[\"upvote_ratio\"]=tr_data[\"upvote_ratio\"].replace(np.nan,1.0)\n",
    "vl_data[\"upvote_ratio\"]=vl_data[\"upvote_ratio\"].replace(np.nan,1.0)\n",
    "te_data[\"upvote_ratio\"]=te_data[\"upvote_ratio\"].replace(np.nan,1.0)\n",
    "\n",
    "tr_data=tr_data.drop(['hasImage','author','id','domain','linked_submission_id','title'],axis=1)\n",
    "vl_data=vl_data.drop(['hasImage','author','id','domain','linked_submission_id','title'],axis=1)\n",
    "te_data=te_data.drop(['hasImage','author','id','domain','linked_submission_id','title'],axis=1)"
   ]
  },
  {
   "cell_type": "code",
   "execution_count": 13,
   "metadata": {},
   "outputs": [
    {
     "data": {
      "text/plain": [
       "psbattle_artwork         167857\n",
       "mildlyinteresting         86237\n",
       "photoshopbattles          55198\n",
       "pareidolia                47331\n",
       "fakehistoryporn           35576\n",
       "nottheonion               31977\n",
       "upliftingnews             23960\n",
       "fakealbumcovers           21725\n",
       "misleadingthumbnails      15962\n",
       "propagandaposters         13848\n",
       "subredditsimulator        11553\n",
       "confusing_perspective      8352\n",
       "savedyouaclick             7721\n",
       "theonion                   7548\n",
       "neutralnews                7512\n",
       "usnews                     5941\n",
       "usanews                    5875\n",
       "pic                        5381\n",
       "satire                     3845\n",
       "waterfordwhispersnews       363\n",
       "subsimulatorgpt2            231\n",
       "fakefacts                     7\n",
       "Name: subreddit, dtype: int64"
      ]
     },
     "execution_count": 13,
     "metadata": {},
     "output_type": "execute_result"
    }
   ],
   "source": [
    "\n",
    "tr_data[\"subreddit\"].value_counts()"
   ]
  },
  {
   "cell_type": "code",
   "execution_count": 14,
   "metadata": {},
   "outputs": [
    {
     "name": "stdout",
     "output_type": "stream",
     "text": [
      "(562466, 10)\n",
      "(59169, 10)\n",
      "(59163, 10)\n"
     ]
    }
   ],
   "source": [
    "tr_data.dropna(axis=0,inplace=True)\n",
    "vl_data.dropna(axis=0,inplace=True)\n",
    "te_data.dropna(axis=0,inplace=True)\n",
    "print(tr_data.shape)\n",
    "print(vl_data.shape)\n",
    "print(te_data.shape)\n"
   ]
  },
  {
   "cell_type": "code",
   "execution_count": 15,
   "metadata": {},
   "outputs": [
    {
     "data": {
      "text/html": [
       "<div>\n",
       "<style scoped>\n",
       "    .dataframe tbody tr th:only-of-type {\n",
       "        vertical-align: middle;\n",
       "    }\n",
       "\n",
       "    .dataframe tbody tr th {\n",
       "        vertical-align: top;\n",
       "    }\n",
       "\n",
       "    .dataframe thead th {\n",
       "        text-align: right;\n",
       "    }\n",
       "</style>\n",
       "<table border=\"1\" class=\"dataframe\">\n",
       "  <thead>\n",
       "    <tr style=\"text-align: right;\">\n",
       "      <th></th>\n",
       "      <th>clean_title</th>\n",
       "      <th>created_utc</th>\n",
       "      <th>image_url</th>\n",
       "      <th>num_comments</th>\n",
       "      <th>score</th>\n",
       "      <th>subreddit</th>\n",
       "      <th>upvote_ratio</th>\n",
       "      <th>2_way_label</th>\n",
       "      <th>3_way_label</th>\n",
       "      <th>6_way_label</th>\n",
       "    </tr>\n",
       "  </thead>\n",
       "  <tbody>\n",
       "    <tr>\n",
       "      <th>0</th>\n",
       "      <td>my walgreens offbrand mucinex was engraved wit...</td>\n",
       "      <td>1.551641e+09</td>\n",
       "      <td>https://external-preview.redd.it/WylDbZrnbvZdB...</td>\n",
       "      <td>2.0</td>\n",
       "      <td>12</td>\n",
       "      <td>mildlyinteresting</td>\n",
       "      <td>0.84</td>\n",
       "      <td>1</td>\n",
       "      <td>0</td>\n",
       "      <td>0</td>\n",
       "    </tr>\n",
       "    <tr>\n",
       "      <th>2</th>\n",
       "      <td>hackers leak emails from uae ambassador to us</td>\n",
       "      <td>1.496511e+09</td>\n",
       "      <td>https://external-preview.redd.it/6fNhdbc6K1vFA...</td>\n",
       "      <td>1.0</td>\n",
       "      <td>44</td>\n",
       "      <td>neutralnews</td>\n",
       "      <td>0.92</td>\n",
       "      <td>1</td>\n",
       "      <td>0</td>\n",
       "      <td>0</td>\n",
       "    </tr>\n",
       "  </tbody>\n",
       "</table>\n",
       "</div>"
      ],
      "text/plain": [
       "                                         clean_title   created_utc  \\\n",
       "0  my walgreens offbrand mucinex was engraved wit...  1.551641e+09   \n",
       "2      hackers leak emails from uae ambassador to us  1.496511e+09   \n",
       "\n",
       "                                           image_url  num_comments  score  \\\n",
       "0  https://external-preview.redd.it/WylDbZrnbvZdB...           2.0     12   \n",
       "2  https://external-preview.redd.it/6fNhdbc6K1vFA...           1.0     44   \n",
       "\n",
       "           subreddit  upvote_ratio  2_way_label  3_way_label  6_way_label  \n",
       "0  mildlyinteresting          0.84            1            0            0  \n",
       "2        neutralnews          0.92            1            0            0  "
      ]
     },
     "execution_count": 15,
     "metadata": {},
     "output_type": "execute_result"
    }
   ],
   "source": [
    "tr_samp_data=tr_data[tr_data[\"6_way_label\"]==0][:6000]\n",
    "tr_samp_data=tr_samp_data.append(tr_data[tr_data[\"6_way_label\"]==1][:6000])\n",
    "tr_samp_data=tr_samp_data.append(tr_data[tr_data[\"6_way_label\"]==2][:6000])\n",
    "tr_samp_data=tr_samp_data.append(tr_data[tr_data[\"6_way_label\"]==3][:6000])\n",
    "tr_samp_data=tr_samp_data.append(tr_data[tr_data[\"6_way_label\"]==4][:6000])\n",
    "tr_samp_data=tr_samp_data.append(tr_data[tr_data[\"6_way_label\"]==5][:6000])\n",
    "tr_samp_data.head(2)"
   ]
  },
  {
   "cell_type": "code",
   "execution_count": 16,
   "metadata": {},
   "outputs": [
    {
     "data": {
      "text/html": [
       "<div>\n",
       "<style scoped>\n",
       "    .dataframe tbody tr th:only-of-type {\n",
       "        vertical-align: middle;\n",
       "    }\n",
       "\n",
       "    .dataframe tbody tr th {\n",
       "        vertical-align: top;\n",
       "    }\n",
       "\n",
       "    .dataframe thead th {\n",
       "        text-align: right;\n",
       "    }\n",
       "</style>\n",
       "<table border=\"1\" class=\"dataframe\">\n",
       "  <thead>\n",
       "    <tr style=\"text-align: right;\">\n",
       "      <th></th>\n",
       "      <th>clean_title</th>\n",
       "      <th>created_utc</th>\n",
       "      <th>image_url</th>\n",
       "      <th>num_comments</th>\n",
       "      <th>score</th>\n",
       "      <th>subreddit</th>\n",
       "      <th>upvote_ratio</th>\n",
       "      <th>2_way_label</th>\n",
       "      <th>3_way_label</th>\n",
       "      <th>6_way_label</th>\n",
       "    </tr>\n",
       "  </thead>\n",
       "  <tbody>\n",
       "    <tr>\n",
       "      <th>0</th>\n",
       "      <td>my xbox controller says hi</td>\n",
       "      <td>1.567436e+09</td>\n",
       "      <td>https://preview.redd.it/l0ga0tug17k31.jpg?widt...</td>\n",
       "      <td>4.0</td>\n",
       "      <td>25</td>\n",
       "      <td>mildlyinteresting</td>\n",
       "      <td>0.72</td>\n",
       "      <td>1</td>\n",
       "      <td>0</td>\n",
       "      <td>0</td>\n",
       "    </tr>\n",
       "    <tr>\n",
       "      <th>1</th>\n",
       "      <td>new image from the mandalorian</td>\n",
       "      <td>1.567745e+09</td>\n",
       "      <td>https://external-preview.redd.it/VX7bXDu9Gl8UZ...</td>\n",
       "      <td>5.0</td>\n",
       "      <td>21</td>\n",
       "      <td>photoshopbattles</td>\n",
       "      <td>0.92</td>\n",
       "      <td>1</td>\n",
       "      <td>0</td>\n",
       "      <td>0</td>\n",
       "    </tr>\n",
       "  </tbody>\n",
       "</table>\n",
       "</div>"
      ],
      "text/plain": [
       "                      clean_title   created_utc  \\\n",
       "0      my xbox controller says hi  1.567436e+09   \n",
       "1  new image from the mandalorian  1.567745e+09   \n",
       "\n",
       "                                           image_url  num_comments  score  \\\n",
       "0  https://preview.redd.it/l0ga0tug17k31.jpg?widt...           4.0     25   \n",
       "1  https://external-preview.redd.it/VX7bXDu9Gl8UZ...           5.0     21   \n",
       "\n",
       "           subreddit  upvote_ratio  2_way_label  3_way_label  6_way_label  \n",
       "0  mildlyinteresting          0.72            1            0            0  \n",
       "1   photoshopbattles          0.92            1            0            0  "
      ]
     },
     "execution_count": 16,
     "metadata": {},
     "output_type": "execute_result"
    }
   ],
   "source": [
    "vl_samp_data=vl_data[vl_data[\"6_way_label\"]==0][:1000]\n",
    "vl_samp_data=vl_samp_data.append(vl_data[vl_data[\"6_way_label\"]==1][:1000])\n",
    "vl_samp_data=vl_samp_data.append(vl_data[vl_data[\"6_way_label\"]==2][:1000])\n",
    "vl_samp_data=vl_samp_data.append(vl_data[vl_data[\"6_way_label\"]==3][:1000])\n",
    "vl_samp_data=vl_samp_data.append(vl_data[vl_data[\"6_way_label\"]==4][:1000])\n",
    "vl_samp_data=vl_samp_data.append(vl_data[vl_data[\"6_way_label\"]==5][:1000])\n",
    "vl_samp_data.head(2)"
   ]
  },
  {
   "cell_type": "code",
   "execution_count": 17,
   "metadata": {},
   "outputs": [
    {
     "data": {
      "text/html": [
       "<div>\n",
       "<style scoped>\n",
       "    .dataframe tbody tr th:only-of-type {\n",
       "        vertical-align: middle;\n",
       "    }\n",
       "\n",
       "    .dataframe tbody tr th {\n",
       "        vertical-align: top;\n",
       "    }\n",
       "\n",
       "    .dataframe thead th {\n",
       "        text-align: right;\n",
       "    }\n",
       "</style>\n",
       "<table border=\"1\" class=\"dataframe\">\n",
       "  <thead>\n",
       "    <tr style=\"text-align: right;\">\n",
       "      <th></th>\n",
       "      <th>clean_title</th>\n",
       "      <th>created_utc</th>\n",
       "      <th>image_url</th>\n",
       "      <th>num_comments</th>\n",
       "      <th>score</th>\n",
       "      <th>subreddit</th>\n",
       "      <th>upvote_ratio</th>\n",
       "      <th>2_way_label</th>\n",
       "      <th>3_way_label</th>\n",
       "      <th>6_way_label</th>\n",
       "    </tr>\n",
       "  </thead>\n",
       "  <tbody>\n",
       "    <tr>\n",
       "      <th>2</th>\n",
       "      <td>pd phoenix car thief gets instructions from yo...</td>\n",
       "      <td>1.560492e+09</td>\n",
       "      <td>https://external-preview.redd.it/1A2_4VwgS8Qd2...</td>\n",
       "      <td>2.0</td>\n",
       "      <td>16</td>\n",
       "      <td>nottheonion</td>\n",
       "      <td>0.89</td>\n",
       "      <td>1</td>\n",
       "      <td>0</td>\n",
       "      <td>0</td>\n",
       "    </tr>\n",
       "    <tr>\n",
       "      <th>3</th>\n",
       "      <td>as trump accuses iran he has one problem his o...</td>\n",
       "      <td>1.560606e+09</td>\n",
       "      <td>https://external-preview.redd.it/9BKRcgvaobpTo...</td>\n",
       "      <td>4.0</td>\n",
       "      <td>45</td>\n",
       "      <td>neutralnews</td>\n",
       "      <td>0.78</td>\n",
       "      <td>1</td>\n",
       "      <td>0</td>\n",
       "      <td>0</td>\n",
       "    </tr>\n",
       "  </tbody>\n",
       "</table>\n",
       "</div>"
      ],
      "text/plain": [
       "                                         clean_title   created_utc  \\\n",
       "2  pd phoenix car thief gets instructions from yo...  1.560492e+09   \n",
       "3  as trump accuses iran he has one problem his o...  1.560606e+09   \n",
       "\n",
       "                                           image_url  num_comments  score  \\\n",
       "2  https://external-preview.redd.it/1A2_4VwgS8Qd2...           2.0     16   \n",
       "3  https://external-preview.redd.it/9BKRcgvaobpTo...           4.0     45   \n",
       "\n",
       "     subreddit  upvote_ratio  2_way_label  3_way_label  6_way_label  \n",
       "2  nottheonion          0.89            1            0            0  \n",
       "3  neutralnews          0.78            1            0            0  "
      ]
     },
     "execution_count": 17,
     "metadata": {},
     "output_type": "execute_result"
    }
   ],
   "source": [
    "te_samp_data=te_data[te_data[\"6_way_label\"]==0][:1000]\n",
    "te_samp_data=te_samp_data.append(te_data[te_data[\"6_way_label\"]==1][:1000])\n",
    "te_samp_data=te_samp_data.append(te_data[te_data[\"6_way_label\"]==2][:1000])\n",
    "te_samp_data=te_samp_data.append(te_data[te_data[\"6_way_label\"]==3][:1000])\n",
    "te_samp_data=te_samp_data.append(te_data[te_data[\"6_way_label\"]==4][:1000])\n",
    "te_samp_data=te_samp_data.append(te_data[te_data[\"6_way_label\"]==5][:1000])\n",
    "te_samp_data.head(2)"
   ]
  },
  {
   "cell_type": "markdown",
   "metadata": {},
   "source": [
    "# Average Word2Vec for Text Data:"
   ]
  },
  {
   "cell_type": "code",
   "execution_count": 18,
   "metadata": {},
   "outputs": [
    {
     "data": {
      "text/plain": [
       "'man calm better'"
      ]
     },
     "execution_count": 18,
     "metadata": {},
     "output_type": "execute_result"
    }
   ],
   "source": [
    "from nltk.stem.porter import *\n",
    "stemmer = PorterStemmer()\n",
    "\n",
    "stopwords= set(['br', 'the', 'i', 'me', 'my', 'myself', 'we', 'our', 'ours', 'ourselves', 'you', \"you're\", \"you've\",\\\n",
    "            \"you'll\", \"you'd\", 'your', 'yours', 'yourself', 'yourselves', 'he', 'him', 'his', 'himself', \\\n",
    "            'she', \"she's\", 'her', 'hers', 'herself', 'it', \"it's\", 'its', 'itself', 'they', 'them', 'their',\\\n",
    "            'theirs', 'themselves', 'what', 'which', 'who', 'whom', 'this', 'that', \"that'll\", 'these', 'those', \\\n",
    "            'am', 'is', 'are', 'was', 'were', 'be', 'been', 'being', 'have', 'has', 'had', 'having', 'do', 'does', \\\n",
    "            'did', 'doing', 'a', 'an', 'the', 'and', 'but', 'if', 'or', 'because', 'as', 'until', 'while', 'of', \\\n",
    "            'at', 'by', 'for', 'with', 'about', 'against', 'between', 'into', 'through', 'during', 'before', 'after',\\\n",
    "            'above', 'below', 'to', 'from', 'up', 'down', 'in', 'out', 'on', 'off', 'over', 'under', 'again', 'further',\\\n",
    "            'then', 'once', 'here', 'there', 'when', 'where', 'why', 'how', 'all', 'any', 'both', 'each', 'few', 'more',\\\n",
    "            'most', 'other', 'some', 'such', 'only', 'own', 'same', 'so', 'than', 'too', 'very', \\\n",
    "            's', 't', 'can', 'will', 'just', 'don', \"don't\", 'should', \"should've\", 'now', 'd', 'll', 'm', 'o', 're', \\\n",
    "            've', 'y', 'ain', 'aren', \"aren't\", 'couldn', \"couldn't\", 'didn', \"didn't\", 'doesn', \"doesn't\", 'hadn',\\\n",
    "            \"hadn't\", 'hasn', \"hasn't\", 'haven', \"haven't\", 'isn', \"isn't\", 'ma', 'mightn', \"mightn't\", 'mustn',\\\n",
    "            \"mustn't\", 'needn', \"needn't\", 'shan', \"shan't\", 'shouldn', \"shouldn't\", 'wasn', \"wasn't\", 'weren', \"weren't\", \\\n",
    "            'won', \"won't\", 'wouldn', \"wouldn't\"])\n",
    "\n",
    "def preprocess_sent(line):\n",
    "    phrase=[stemmer.stem(l) for l in line.split()]\n",
    "    phrase=[l for l in phrase if l not in stopwords]\n",
    "    phrase=\" \".join(phrase)\n",
    "    return phrase\n",
    "preprocess_sent(\"man is calm and better\")"
   ]
  },
  {
   "cell_type": "code",
   "execution_count": 19,
   "metadata": {},
   "outputs": [
    {
     "name": "stderr",
     "output_type": "stream",
     "text": [
      "100%|██████████████████████████████████████████████████████████████████████████| 36000/36000 [00:07<00:00, 5064.25it/s]\n",
      "100%|█████████████████████████████████████████████████████████████████████████| 36000/36000 [00:02<00:00, 17503.98it/s]"
     ]
    },
    {
     "name": "stdout",
     "output_type": "stream",
     "text": [
      "36000\n",
      "300\n"
     ]
    },
    {
     "name": "stderr",
     "output_type": "stream",
     "text": [
      "\n"
     ]
    }
   ],
   "source": [
    "train_sentences=[]\n",
    "\n",
    "for sent in tqdm(list(tr_samp_data[\"clean_title\"].values)):\n",
    "    train_sentences.append(preprocess_sent(sent))\n",
    "\n",
    "import pickle\n",
    "with open('word2vec_model', 'rb') as f:\n",
    "    w2v_model = pickle.load(f)\n",
    "    w2v_words =  set(w2v_model.keys())\n",
    "\n",
    "    \n",
    "train_sent_vectors = []; \n",
    "for sent in tqdm(train_sentences):\n",
    "    sent_vec = np.zeros(300)\n",
    "    cnt_words =0; \n",
    "    for word in sent: \n",
    "        if word in w2v_words:\n",
    "            vec = w2v_model[word]\n",
    "            sent_vec += vec\n",
    "            cnt_words += 1\n",
    "    if cnt_words != 0:\n",
    "        sent_vec /= cnt_words\n",
    "    train_sent_vectors.append(sent_vec)\n",
    "print(len(train_sent_vectors))\n",
    "print(len(train_sent_vectors[0]))\n",
    "\n",
    "train_sent_vectors=np.array(train_sent_vectors)"
   ]
  },
  {
   "cell_type": "code",
   "execution_count": 20,
   "metadata": {},
   "outputs": [
    {
     "name": "stderr",
     "output_type": "stream",
     "text": [
      "100%|████████████████████████████████████████████████████████████████████████████| 6000/6000 [00:01<00:00, 4852.32it/s]\n",
      "100%|███████████████████████████████████████████████████████████████████████████| 6000/6000 [00:00<00:00, 18218.36it/s]"
     ]
    },
    {
     "name": "stdout",
     "output_type": "stream",
     "text": [
      "6000\n",
      "300\n"
     ]
    },
    {
     "name": "stderr",
     "output_type": "stream",
     "text": [
      "\n"
     ]
    }
   ],
   "source": [
    "valid_sentences=[]\n",
    "\n",
    "for sent in tqdm(list(vl_samp_data[\"clean_title\"].values)):\n",
    "    valid_sentences.append(preprocess_sent(sent))\n",
    "\n",
    "\n",
    "valid_sent_vectors = []; \n",
    "for sent in tqdm(valid_sentences):\n",
    "    sent_vec = np.zeros(300)\n",
    "    cnt_words =0; \n",
    "    for word in sent: \n",
    "        if word in w2v_words:\n",
    "            vec = w2v_model[word]\n",
    "            sent_vec += vec\n",
    "            cnt_words += 1\n",
    "    if cnt_words != 0:\n",
    "        sent_vec /= cnt_words\n",
    "    valid_sent_vectors.append(sent_vec)\n",
    "print(len(valid_sent_vectors))\n",
    "print(len(valid_sent_vectors[0]))\n",
    "\n",
    "valid_sent_vectors=np.array(valid_sent_vectors)"
   ]
  },
  {
   "cell_type": "code",
   "execution_count": 21,
   "metadata": {},
   "outputs": [
    {
     "name": "stderr",
     "output_type": "stream",
     "text": [
      "100%|████████████████████████████████████████████████████████████████████████████| 6000/6000 [00:01<00:00, 5179.90it/s]\n",
      "100%|███████████████████████████████████████████████████████████████████████████| 6000/6000 [00:00<00:00, 17757.94it/s]"
     ]
    },
    {
     "name": "stdout",
     "output_type": "stream",
     "text": [
      "6000\n",
      "300\n"
     ]
    },
    {
     "name": "stderr",
     "output_type": "stream",
     "text": [
      "\n"
     ]
    }
   ],
   "source": [
    "test_sentences=[]\n",
    "\n",
    "for sent in tqdm(list(te_samp_data[\"clean_title\"].values)):\n",
    "    test_sentences.append(preprocess_sent(sent))\n",
    "\n",
    "\n",
    "test_sent_vectors = []; \n",
    "for sent in tqdm(test_sentences):\n",
    "    sent_vec = np.zeros(300)\n",
    "    cnt_words =0; \n",
    "    for word in sent: \n",
    "        if word in w2v_words:\n",
    "            vec = w2v_model[word]\n",
    "            sent_vec += vec\n",
    "            cnt_words += 1\n",
    "    if cnt_words != 0:\n",
    "        sent_vec /= cnt_words\n",
    "    test_sent_vectors.append(sent_vec)\n",
    "print(len(test_sent_vectors))\n",
    "print(len(test_sent_vectors[0]))\n",
    "\n",
    "test_sent_vectors=np.array(test_sent_vectors)"
   ]
  },
  {
   "cell_type": "markdown",
   "metadata": {},
   "source": [
    "# Data Preparation:"
   ]
  },
  {
   "cell_type": "code",
   "execution_count": 22,
   "metadata": {},
   "outputs": [
    {
     "name": "stdout",
     "output_type": "stream",
     "text": [
      "Model: \"functional_1\"\n",
      "_________________________________________________________________\n",
      "Layer (type)                 Output Shape              Param #   \n",
      "=================================================================\n",
      "input_1 (InputLayer)         [(None, 224, 224, 3)]     0         \n",
      "_________________________________________________________________\n",
      "block1_conv1 (Conv2D)        (None, 224, 224, 64)      1792      \n",
      "_________________________________________________________________\n",
      "block1_conv2 (Conv2D)        (None, 224, 224, 64)      36928     \n",
      "_________________________________________________________________\n",
      "block1_pool (MaxPooling2D)   (None, 112, 112, 64)      0         \n",
      "_________________________________________________________________\n",
      "block2_conv1 (Conv2D)        (None, 112, 112, 128)     73856     \n",
      "_________________________________________________________________\n",
      "block2_conv2 (Conv2D)        (None, 112, 112, 128)     147584    \n",
      "_________________________________________________________________\n",
      "block2_pool (MaxPooling2D)   (None, 56, 56, 128)       0         \n",
      "_________________________________________________________________\n",
      "block3_conv1 (Conv2D)        (None, 56, 56, 256)       295168    \n",
      "_________________________________________________________________\n",
      "block3_conv2 (Conv2D)        (None, 56, 56, 256)       590080    \n",
      "_________________________________________________________________\n",
      "block3_conv3 (Conv2D)        (None, 56, 56, 256)       590080    \n",
      "_________________________________________________________________\n",
      "block3_pool (MaxPooling2D)   (None, 28, 28, 256)       0         \n",
      "_________________________________________________________________\n",
      "block4_conv1 (Conv2D)        (None, 28, 28, 512)       1180160   \n",
      "_________________________________________________________________\n",
      "block4_conv2 (Conv2D)        (None, 28, 28, 512)       2359808   \n",
      "_________________________________________________________________\n",
      "block4_conv3 (Conv2D)        (None, 28, 28, 512)       2359808   \n",
      "_________________________________________________________________\n",
      "block4_pool (MaxPooling2D)   (None, 14, 14, 512)       0         \n",
      "_________________________________________________________________\n",
      "block5_conv1 (Conv2D)        (None, 14, 14, 512)       2359808   \n",
      "_________________________________________________________________\n",
      "block5_conv2 (Conv2D)        (None, 14, 14, 512)       2359808   \n",
      "_________________________________________________________________\n",
      "block5_conv3 (Conv2D)        (None, 14, 14, 512)       2359808   \n",
      "_________________________________________________________________\n",
      "block5_pool (MaxPooling2D)   (None, 7, 7, 512)         0         \n",
      "_________________________________________________________________\n",
      "flatten (Flatten)            (None, 25088)             0         \n",
      "_________________________________________________________________\n",
      "fc1 (Dense)                  (None, 4096)              102764544 \n",
      "_________________________________________________________________\n",
      "fc2 (Dense)                  (None, 4096)              16781312  \n",
      "=================================================================\n",
      "Total params: 134,260,544\n",
      "Trainable params: 134,260,544\n",
      "Non-trainable params: 0\n",
      "_________________________________________________________________\n"
     ]
    }
   ],
   "source": [
    "from tensorflow.keras import applications\n",
    "from tensorflow.keras.layers import Input\n",
    "\n",
    "import tensorflow as tf \n",
    "\n",
    "\n",
    "model = applications.VGG16(weights=\"imagenet\")\n",
    "\n",
    "model.layers.pop()\n",
    "model = tf.keras.Model(inputs=model.inputs, outputs=model.layers[-2].output)\n",
    "model.summary()"
   ]
  },
  {
   "cell_type": "code",
   "execution_count": 23,
   "metadata": {},
   "outputs": [],
   "source": [
    "with open('tr_img_0to10k.pkl', 'rb') as f:\n",
    "    train_images = pickle.load(f)\n",
    "with open('tr_img_10kto20k.pkl', 'rb') as f:\n",
    "    train_images.extend(pickle.load(f))\n",
    "with open('tr_img_20kto36k.pkl', 'rb') as f:\n",
    "    train_images.extend(pickle.load(f))"
   ]
  },
  {
   "cell_type": "code",
   "execution_count": 24,
   "metadata": {},
   "outputs": [],
   "source": [
    "with open('tr_vgg_features.pkl', 'rb') as f:\n",
    "    train_features = pickle.load(f)\n",
    " \n",
    "train_features = np.array(train_features)    \n",
    "train_features = train_features.reshape(35555,4096)"
   ]
  },
  {
   "cell_type": "code",
   "execution_count": 25,
   "metadata": {},
   "outputs": [],
   "source": [
    "from sklearn.decomposition import PCA\n",
    "\n",
    "train_features = PCA(n_components=10).fit_transform(train_features)"
   ]
  },
  {
   "cell_type": "code",
   "execution_count": 26,
   "metadata": {},
   "outputs": [
    {
     "name": "stderr",
     "output_type": "stream",
     "text": [
      "100%|████████████████████████████████████████████████████████████████████████| 36000/36000 [00:00<00:00, 145300.33it/s]\n"
     ]
    }
   ],
   "source": [
    "ind=[]\n",
    "\n",
    "for i in tqdm(range(36000)):\n",
    "    if train_images[i]=='nan':\n",
    "        continue\n",
    "    ind.append(i)\n",
    "    \n",
    "train_images=np.array(train_images)[ind]\n",
    "\n",
    "train_sent_vectors=train_sent_vectors[ind]\n",
    "\n",
    "y_train=np.array(tr_samp_data['6_way_label'])[ind]\n",
    "\n",
    "\n",
    "x1=np.array(tr_samp_data[[ 'created_utc', 'num_comments', 'score',\n",
    "        'upvote_ratio', '2_way_label', '3_way_label']].values)\n",
    "x1=x1[ind]\n",
    "\n",
    "from sklearn.preprocessing import OneHotEncoder \n",
    "enc1 = OneHotEncoder() \n",
    "\n",
    "enc = enc1.fit_transform(tr_samp_data[['subreddit']]).toarray() \n",
    "\n",
    "enc=enc[ind]\n",
    "x2=np.hstack((x1,enc))\n",
    "x=np.hstack((train_sent_vectors,x2))"
   ]
  },
  {
   "cell_type": "code",
   "execution_count": 27,
   "metadata": {},
   "outputs": [],
   "source": [
    "x=np.hstack((train_features,x))"
   ]
  },
  {
   "cell_type": "code",
   "execution_count": 29,
   "metadata": {},
   "outputs": [
    {
     "name": "stderr",
     "output_type": "stream",
     "text": [
      "100%|███████████████████████████████████████████████████████████████████████████| 6000/6000 [00:00<00:00, 74745.68it/s]\n"
     ]
    }
   ],
   "source": [
    "with open('val_images.pkl', 'rb') as f:\n",
    "    valid_images = pickle.load(f)\n",
    "    \n",
    "ind=[]\n",
    "\n",
    "for i in tqdm(range(6000)):\n",
    "    if valid_images[i]=='nan':\n",
    "        continue\n",
    "    ind.append(i)\n",
    "    \n",
    "valid_images=np.array(valid_images)[ind]\n",
    "\n",
    "valid_sent_vectors=valid_sent_vectors[ind]\n",
    "\n",
    "y_val=np.array(vl_samp_data['6_way_label'])[ind]\n",
    "\n",
    "\n",
    "x1=np.array(vl_samp_data[[ 'created_utc', 'num_comments', 'score',\n",
    "        'upvote_ratio', '2_way_label', '3_way_label']].values)\n",
    "x1=x1[ind]\n",
    "\n",
    "\n",
    "\n",
    "enc = enc1.fit_transform(vl_samp_data[['subreddit']]).toarray() \n",
    "\n",
    "enc=enc[ind]\n",
    "x2=np.hstack((x1,enc))\n",
    "v=np.hstack((valid_sent_vectors,x2))"
   ]
  },
  {
   "cell_type": "code",
   "execution_count": 30,
   "metadata": {},
   "outputs": [
    {
     "name": "stderr",
     "output_type": "stream",
     "text": [
      "100%|████████████████████████████████████████████████████████████████████████████| 5909/5909 [5:09:44<00:00,  3.15s/it]\n"
     ]
    }
   ],
   "source": [
    "valid_features=[]\n",
    "\n",
    "\n",
    "for i in tqdm(range(valid_images.shape[0])):\n",
    "    image= cv2.resize(valid_images[i], (224,224))\n",
    "    img=image.reshape(1,224,224,3)\n",
    "    \n",
    "    valid_features.append(model.predict(img))\n",
    "    \n",
    "valid_features=np.array(valid_features)\n",
    "\n",
    "valid_features=valid_features.reshape(5909,4096)\n",
    "\n",
    "from sklearn.decomposition import PCA\n",
    "\n",
    "valid_features = PCA(n_components=10).fit_transform(valid_features)\n",
    "\n",
    "v=np.hstack((valid_features,v))"
   ]
  },
  {
   "cell_type": "code",
   "execution_count": 33,
   "metadata": {},
   "outputs": [
    {
     "name": "stderr",
     "output_type": "stream",
     "text": [
      "100%|██████████████████████████████████████████████████████████████████████████| 6000/6000 [00:00<00:00, 113509.38it/s]\n"
     ]
    }
   ],
   "source": [
    "with open('test_images.pkl', 'rb') as f:\n",
    "    test_images = pickle.load(f)\n",
    "    \n",
    "ind=[]\n",
    "\n",
    "for i in tqdm(range(6000)):\n",
    "    if test_images[i]=='nan':\n",
    "        continue\n",
    "    ind.append(i)\n",
    "    \n",
    "test_images=np.array(test_images)[ind]\n",
    "\n",
    "test_sent_vectors=test_sent_vectors[ind]\n",
    "\n",
    "y_test=np.array(te_samp_data['6_way_label'])[ind]\n",
    "\n",
    "\n",
    "x1=np.array(te_samp_data[[ 'created_utc', 'num_comments', 'score',\n",
    "        'upvote_ratio', '2_way_label', '3_way_label']].values)\n",
    "x1=x1[ind]\n",
    "\n",
    " \n",
    "enc = enc1.transform(te_samp_data[['subreddit']]).toarray() \n",
    "\n",
    "enc=enc[ind]\n",
    "x2=np.hstack((x1,enc))\n",
    "t=np.hstack((test_sent_vectors,x2))"
   ]
  },
  {
   "cell_type": "code",
   "execution_count": 34,
   "metadata": {},
   "outputs": [
    {
     "name": "stderr",
     "output_type": "stream",
     "text": [
      "100%|██████████████████████████████████████████████████████████████████████████████| 5910/5910 [53:32<00:00,  1.84it/s]\n"
     ]
    }
   ],
   "source": [
    "test_features=[]\n",
    "\n",
    "\n",
    "for i in tqdm(range(test_images.shape[0])):\n",
    "    image= cv2.resize(test_images[i], (224,224))\n",
    "    img=image.reshape(1,224,224,3)\n",
    "    \n",
    "    test_features.append(model.predict(img))\n",
    "    \n",
    "test_features=np.array(test_features)\n",
    "\n",
    "test_features=test_features.reshape(5910,4096)\n",
    "\n",
    "from sklearn.decomposition import PCA\n",
    "\n",
    "test_features = PCA(n_components=10).fit_transform(test_features)\n",
    "\n",
    "x_test=np.hstack((test_features,t))"
   ]
  },
  {
   "cell_type": "markdown",
   "metadata": {},
   "source": [
    "# Train and validation data:"
   ]
  },
  {
   "cell_type": "code",
   "execution_count": 35,
   "metadata": {},
   "outputs": [],
   "source": [
    "tr_ind=random.sample(range(0,x.shape[0]),x.shape[0])\n",
    "\n",
    "x_train,y_train=x[tr_ind],y_train[tr_ind]\n",
    "\n",
    "vl_ind=random.sample(range(0,v.shape[0]),v.shape[0])\n",
    "\n",
    "x_val,y_val=v[vl_ind],y_val[vl_ind]"
   ]
  },
  {
   "cell_type": "markdown",
   "metadata": {},
   "source": [
    "# Model Training:"
   ]
  },
  {
   "cell_type": "markdown",
   "metadata": {},
   "source": [
    "# Decision Tree:"
   ]
  },
  {
   "cell_type": "code",
   "execution_count": 36,
   "metadata": {},
   "outputs": [],
   "source": [
    "from sklearn.tree import DecisionTreeClassifier\n",
    "\n",
    "clf = DecisionTreeClassifier(random_state=0)"
   ]
  },
  {
   "cell_type": "markdown",
   "metadata": {},
   "source": [
    "# Hyperparameter Tuning:"
   ]
  },
  {
   "cell_type": "code",
   "execution_count": 37,
   "metadata": {},
   "outputs": [],
   "source": [
    "max_dep=[3,5,8,11]\n",
    "\n",
    "min_split=[5,10,20,50]"
   ]
  },
  {
   "cell_type": "code",
   "execution_count": 38,
   "metadata": {},
   "outputs": [],
   "source": [
    "from sklearn.metrics import accuracy_score\n",
    "\n",
    "train_auc=[]\n",
    "cv_auc=[]\n",
    "for i in max_dep:\n",
    "    p=[]\n",
    "    q=[]\n",
    "    for j in min_split:\n",
    "        clf=DecisionTreeClassifier(min_samples_split=j,max_depth=i)\n",
    "        clf.fit(x_train,y_train)\n",
    "        y_train_pred=clf.predict(x_train)\n",
    "        y_cv_pred=clf.predict(x_val)\n",
    "        p.append(accuracy_score(y_train,y_train_pred))\n",
    "        q.append(accuracy_score(y_val,y_cv_pred))\n",
    "    train_auc.append(p)\n",
    "    cv_auc.append(q)"
   ]
  },
  {
   "cell_type": "code",
   "execution_count": 39,
   "metadata": {},
   "outputs": [
    {
     "data": {
      "image/png": "[encoded data removed]",
      "text/plain": [
       "<Figure size 432x288 with 2 Axes>"
      ]
     },
     "metadata": {
      "needs_background": "light"
     },
     "output_type": "display_data"
    }
   ],
   "source": [
    "plt.title('train Accuracy')\n",
    "plt.xlabel('min sample split')\n",
    "plt.ylabel('max depth')\n",
    "sns.heatmap(train_auc,annot=True,fmt='.2f',xticklabels=min_split,yticklabels=max_dep)\n",
    "plt.show()"
   ]
  },
  {
   "cell_type": "code",
   "execution_count": 44,
   "metadata": {},
   "outputs": [
    {
     "data": {
      "image/png": "[encoded data removed]",
      "text/plain": [
       "<Figure size 432x288 with 2 Axes>"
      ]
     },
     "metadata": {
      "needs_background": "light"
     },
     "output_type": "display_data"
    }
   ],
   "source": [
    "plt.title('validation Accurcay')\n",
    "plt.xlabel('min sample split')\n",
    "plt.ylabel('max depth')\n",
    "sns.heatmap(cv_auc,annot=True,fmt='.2f',xticklabels=min_split,yticklabels=max_dep)\n",
    "plt.show()"
   ]
  },
  {
   "cell_type": "markdown",
   "metadata": {},
   "source": [
    "# prediction on test data:"
   ]
  },
  {
   "cell_type": "code",
   "execution_count": 45,
   "metadata": {},
   "outputs": [
    {
     "name": "stdout",
     "output_type": "stream",
     "text": [
      "test accuracy is : 1.0\n"
     ]
    }
   ],
   "source": [
    "clf = DecisionTreeClassifier(min_samples_split=5,max_depth=11).fit(x_train,y_train)\n",
    "\n",
    "y_pred=clf.predict(x_test)\n",
    "\n",
    "\n",
    "print(\"test accuracy is : \"+str(accuracy_score(y_test,y_pred)))"
   ]
  },
  {
   "cell_type": "markdown",
   "metadata": {},
   "source": [
    "# Extra Tree Clssifier:"
   ]
  },
  {
   "cell_type": "code",
   "execution_count": 56,
   "metadata": {},
   "outputs": [],
   "source": [
    "from sklearn.ensemble import ExtraTreesClassifier\n",
    "\n",
    "mnb = ExtraTreesClassifier( random_state=0)"
   ]
  },
  {
   "cell_type": "markdown",
   "metadata": {},
   "source": [
    "# Hyperparamter Tuning:"
   ]
  },
  {
   "cell_type": "code",
   "execution_count": 57,
   "metadata": {},
   "outputs": [
    {
     "name": "stderr",
     "output_type": "stream",
     "text": [
      "100%|██████████| 5/5 [00:43<00:00,  8.65s/it]\n"
     ]
    }
   ],
   "source": [
    "n_est=[10,20,50,100,200]\n",
    "train_acc=[]\n",
    "cv_acc=[]\n",
    "for i in tqdm(n_est):\n",
    "    mnb=ExtraTreesClassifier(n_estimators=i, random_state=0)\n",
    "    mnb.fit(x_train,y_train)\n",
    "    y_train_pred=mnb.predict(x_train)\n",
    "    y_cv_pred=mnb.predict(x_val)\n",
    "    train_acc.append(accuracy_score(y_train,y_train_pred))\n",
    "    cv_acc.append(accuracy_score(y_val,y_cv_pred))"
   ]
  },
  {
   "cell_type": "code",
   "execution_count": 59,
   "metadata": {},
   "outputs": [
    {
     "data": {
      "image/png": "[encoded data removed]",
      "text/plain": [
       "<Figure size 432x288 with 1 Axes>"
      ]
     },
     "metadata": {
      "needs_background": "light"
     },
     "output_type": "display_data"
    }
   ],
   "source": [
    "plt.plot(n_est, train_acc, label='Train AUC')\n",
    "plt.plot(n_est, cv_acc, label='CV AUC')\n",
    "plt.legend()\n",
    "plt.xlabel(\"estimators: hyperparameter\")\n",
    "plt.ylabel(\"Accuracy\")\n",
    "plt.title(\"Acurracy  PLOT\")\n",
    "plt.grid()\n",
    "plt.show()  "
   ]
  },
  {
   "cell_type": "markdown",
   "metadata": {},
   "source": [
    "# Prediction on Test Data:"
   ]
  },
  {
   "cell_type": "code",
   "execution_count": 60,
   "metadata": {},
   "outputs": [
    {
     "name": "stdout",
     "output_type": "stream",
     "text": [
      "test accuracy is : 0.9989847715736041\n"
     ]
    }
   ],
   "source": [
    "mnb=ExtraTreesClassifier(n_estimators=50, random_state=0).fit(x_train,y_train)\n",
    "\n",
    "y_pred=mnb.predict(x_test)\n",
    "\n",
    "\n",
    "print(\"test accuracy is : \"+str(accuracy_score(y_test,y_pred)))"
   ]
  },
  {
   "cell_type": "markdown",
   "metadata": {},
   "source": [
    "# Random Forest Classifier:"
   ]
  },
  {
   "cell_type": "code",
   "execution_count": 46,
   "metadata": {},
   "outputs": [],
   "source": [
    "from sklearn.ensemble import RandomForestClassifier\n",
    "\n",
    "clf=RandomForestClassifier()"
   ]
  },
  {
   "cell_type": "markdown",
   "metadata": {},
   "source": [
    "# Hyperparameter Tuning:"
   ]
  },
  {
   "cell_type": "code",
   "execution_count": 47,
   "metadata": {},
   "outputs": [
    {
     "name": "stderr",
     "output_type": "stream",
     "text": [
      "100%|██████████| 10/10 [30:44<00:00, 184.42s/it]\n"
     ]
    }
   ],
   "source": [
    "estimator=[1,2,4,8,16,32,64,100,200]\n",
    "max_dep=np.linspace(1,25,10,dtype=int)\n",
    "train_acc=[]\n",
    "cv_acc=[]\n",
    "for i in tqdm(max_dep):\n",
    "    p=[]\n",
    "    q=[]\n",
    "    for j in estimator:\n",
    "        clf=RandomForestClassifier(n_estimators=j,max_depth=i)\n",
    "        clf.fit(x_train,y_train)\n",
    "        y_train_pred=clf.predict(x_train)\n",
    "        y_cv_pred=clf.predict(x_val)\n",
    "        p.append(accuracy_score(y_train,y_train_pred))\n",
    "        q.append(accuracy_score(y_val,y_cv_pred))\n",
    "    train_acc.append(p)\n",
    "    cv_acc.append(q)"
   ]
  },
  {
   "cell_type": "code",
   "execution_count": 53,
   "metadata": {},
   "outputs": [
    {
     "data": {
      "text/plain": [
       "<matplotlib.axes._subplots.AxesSubplot at 0x7faf3f900dd0>"
      ]
     },
     "execution_count": 53,
     "metadata": {},
     "output_type": "execute_result"
    },
    {
     "data": {
      "image/png": "[encoded data removed]",
      "text/plain": [
       "<Figure size 432x288 with 2 Axes>"
      ]
     },
     "metadata": {
      "needs_background": "light"
     },
     "output_type": "display_data"
    }
   ],
   "source": [
    "sns.heatmap(train_acc,annot=True,fmt='.2f',xticklabels=['1','2','4','8','16','32','64','100','200'],yticklabels=['1','3','6','9','11','14','17','19','22','25'])"
   ]
  },
  {
   "cell_type": "code",
   "execution_count": 54,
   "metadata": {},
   "outputs": [
    {
     "data": {
      "text/plain": [
       "<matplotlib.axes._subplots.AxesSubplot at 0x7faf3fdc8990>"
      ]
     },
     "execution_count": 54,
     "metadata": {},
     "output_type": "execute_result"
    },
    {
     "data": {
      "image/png": "[encoded data removed]",
      "text/plain": [
       "<Figure size 432x288 with 2 Axes>"
      ]
     },
     "metadata": {
      "needs_background": "light"
     },
     "output_type": "display_data"
    }
   ],
   "source": [
    "sns.heatmap(cv_acc,annot=True,fmt='.2f',xticklabels=['1','2','4','8','16','32','64','100','200'],yticklabels=['1','3','6','9','11','14','17','19','22','25'])"
   ]
  },
  {
   "cell_type": "markdown",
   "metadata": {},
   "source": [
    "# Prediction on Test Data:"
   ]
  },
  {
   "cell_type": "code",
   "execution_count": 55,
   "metadata": {},
   "outputs": [
    {
     "name": "stdout",
     "output_type": "stream",
     "text": [
      "test accuracy is : 0.9967851099830796\n"
     ]
    }
   ],
   "source": [
    "clf=RandomForestClassifier(n_estimators=32,max_depth=9).fit(x_train,y_train)\n",
    "\n",
    "y_pred=clf.predict(x_test)\n",
    "\n",
    "\n",
    "print(\"test accuracy is : \"+str(accuracy_score(y_test,y_pred)))"
   ]
  }
 ],
 "metadata": {
  "kernelspec": {
   "display_name": "Python 3",
   "language": "python",
   "name": "python3"
  },
  "language_info": {
   "codemirror_mode": {
    "name": "ipython",
    "version": 3
   },
   "file_extension": ".py",
   "mimetype": "text/x-python",
   "name": "python",
   "nbconvert_exporter": "python",
   "pygments_lexer": "ipython3",
   "version": "3.8.3"
  }
 },
 "nbformat": 4,
 "nbformat_minor": 4
}
