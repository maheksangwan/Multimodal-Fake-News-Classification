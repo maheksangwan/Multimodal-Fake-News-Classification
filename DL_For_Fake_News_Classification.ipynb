{
 "cells": [
  {
   "cell_type": "markdown",
   "metadata": {
    "_cell_guid": "90242834-bcb2-4cd9-ad75-6d7dcd98f5ea",
    "_uuid": "94159c54-7390-47f2-ae43-66b41be7ff5d"
   },
   "source": [
    "# Fake News Classification:"
   ]
  },
  {
   "cell_type": "markdown",
   "metadata": {
    "_cell_guid": "870733ea-99aa-42d8-9049-23b158689810",
    "_uuid": "7e1547c4-82aa-42fc-8d40-eac173166f7d"
   },
   "source": [
    "# Import Libraries:"
   ]
  },
  {
   "cell_type": "code",
   "execution_count": 1,
   "metadata": {
    "_cell_guid": "359f0d81-dc0c-44ac-91af-798dc9c2cbab",
    "_uuid": "66956dcc-b725-4e4c-8d7c-7056cffb338d"
   },
   "outputs": [],
   "source": [
    "import numpy as np \n",
    "import pandas as pd \n",
    "from tqdm import tqdm\n",
    "import urllib\n",
    "import cv2\n",
    "import random\n",
    "\n",
    "import matplotlib.pyplot as plt\n",
    "import seaborn as sns\n",
    "import warnings\n",
    "warnings.filterwarnings(\"ignore\")"
   ]
  },
  {
   "cell_type": "markdown",
   "metadata": {
    "_cell_guid": "bb59b5ed-80c3-4fd8-a625-02f07d4a9356",
    "_uuid": "6890a7a8-bb46-4177-b79d-7cdfd8c93e12"
   },
   "source": [
    "# Data Cleaning and Analysis:"
   ]
  },
  {
   "cell_type": "code",
   "execution_count": 2,
   "metadata": {
    "_cell_guid": "e6b8f444-72e2-4a0c-91fc-4c1576e631cd",
    "_uuid": "5b5ddc21-158c-44ee-9d9e-2fc68568c2d6"
   },
   "outputs": [
    {
     "name": "stdout",
     "output_type": "stream",
     "text": [
      "(564000, 16)\n",
      "(59342, 16)\n",
      "(59319, 16)\n"
     ]
    }
   ],
   "source": [
    "tr_data=pd.read_csv(\"multimodal_train.tsv\",sep=\"\\t\")\n",
    "vl_data=pd.read_csv('multimodal_validate.tsv',sep=\"\\t\")\n",
    "te_data=pd.read_csv('multimodal_test_public.tsv',sep=\"\\t\")\n",
    "\n",
    "print(tr_data.shape)\n",
    "print(vl_data.shape)\n",
    "print(te_data.shape)"
   ]
  },
  {
   "cell_type": "code",
   "execution_count": 3,
   "metadata": {
    "_cell_guid": "dfde60d6-4429-4276-a9a1-e6d5885126e1",
    "_uuid": "1d1b4e12-21a3-4971-b52d-1ccf02be0429"
   },
   "outputs": [
    {
     "data": {
      "text/html": [
       "<div>\n",
       "<style scoped>\n",
       "    .dataframe tbody tr th:only-of-type {\n",
       "        vertical-align: middle;\n",
       "    }\n",
       "\n",
       "    .dataframe tbody tr th {\n",
       "        vertical-align: top;\n",
       "    }\n",
       "\n",
       "    .dataframe thead th {\n",
       "        text-align: right;\n",
       "    }\n",
       "</style>\n",
       "<table border=\"1\" class=\"dataframe\">\n",
       "  <thead>\n",
       "    <tr style=\"text-align: right;\">\n",
       "      <th></th>\n",
       "      <th>created_utc</th>\n",
       "      <th>num_comments</th>\n",
       "      <th>score</th>\n",
       "      <th>upvote_ratio</th>\n",
       "      <th>2_way_label</th>\n",
       "      <th>3_way_label</th>\n",
       "      <th>6_way_label</th>\n",
       "    </tr>\n",
       "  </thead>\n",
       "  <tbody>\n",
       "    <tr>\n",
       "      <th>count</th>\n",
       "      <td>5.640000e+05</td>\n",
       "      <td>396143.000000</td>\n",
       "      <td>564000.000000</td>\n",
       "      <td>396143.000000</td>\n",
       "      <td>564000.000000</td>\n",
       "      <td>564000.000000</td>\n",
       "      <td>564000.000000</td>\n",
       "    </tr>\n",
       "    <tr>\n",
       "      <th>mean</th>\n",
       "      <td>1.478727e+09</td>\n",
       "      <td>20.363525</td>\n",
       "      <td>395.449160</td>\n",
       "      <td>0.855361</td>\n",
       "      <td>0.393761</td>\n",
       "      <td>1.187926</td>\n",
       "      <td>1.884012</td>\n",
       "    </tr>\n",
       "    <tr>\n",
       "      <th>std</th>\n",
       "      <td>6.970407e+07</td>\n",
       "      <td>141.460211</td>\n",
       "      <td>3049.910636</td>\n",
       "      <td>0.110111</td>\n",
       "      <td>0.488583</td>\n",
       "      <td>0.969604</td>\n",
       "      <td>1.782309</td>\n",
       "    </tr>\n",
       "    <tr>\n",
       "      <th>min</th>\n",
       "      <td>1.212297e+09</td>\n",
       "      <td>0.000000</td>\n",
       "      <td>-950.000000</td>\n",
       "      <td>0.500000</td>\n",
       "      <td>0.000000</td>\n",
       "      <td>0.000000</td>\n",
       "      <td>0.000000</td>\n",
       "    </tr>\n",
       "    <tr>\n",
       "      <th>25%</th>\n",
       "      <td>1.418176e+09</td>\n",
       "      <td>1.000000</td>\n",
       "      <td>5.000000</td>\n",
       "      <td>0.780000</td>\n",
       "      <td>0.000000</td>\n",
       "      <td>0.000000</td>\n",
       "      <td>0.000000</td>\n",
       "    </tr>\n",
       "    <tr>\n",
       "      <th>50%</th>\n",
       "      <td>1.488981e+09</td>\n",
       "      <td>2.000000</td>\n",
       "      <td>14.000000</td>\n",
       "      <td>0.880000</td>\n",
       "      <td>0.000000</td>\n",
       "      <td>2.000000</td>\n",
       "      <td>2.000000</td>\n",
       "    </tr>\n",
       "    <tr>\n",
       "      <th>75%</th>\n",
       "      <td>1.550486e+09</td>\n",
       "      <td>7.000000</td>\n",
       "      <td>46.000000</td>\n",
       "      <td>0.940000</td>\n",
       "      <td>1.000000</td>\n",
       "      <td>2.000000</td>\n",
       "      <td>4.000000</td>\n",
       "    </tr>\n",
       "    <tr>\n",
       "      <th>max</th>\n",
       "      <td>1.573859e+09</td>\n",
       "      <td>10783.000000</td>\n",
       "      <td>137179.000000</td>\n",
       "      <td>1.000000</td>\n",
       "      <td>1.000000</td>\n",
       "      <td>2.000000</td>\n",
       "      <td>5.000000</td>\n",
       "    </tr>\n",
       "  </tbody>\n",
       "</table>\n",
       "</div>"
      ],
      "text/plain": [
       "        created_utc   num_comments          score   upvote_ratio  \\\n",
       "count  5.640000e+05  396143.000000  564000.000000  396143.000000   \n",
       "mean   1.478727e+09      20.363525     395.449160       0.855361   \n",
       "std    6.970407e+07     141.460211    3049.910636       0.110111   \n",
       "min    1.212297e+09       0.000000    -950.000000       0.500000   \n",
       "25%    1.418176e+09       1.000000       5.000000       0.780000   \n",
       "50%    1.488981e+09       2.000000      14.000000       0.880000   \n",
       "75%    1.550486e+09       7.000000      46.000000       0.940000   \n",
       "max    1.573859e+09   10783.000000  137179.000000       1.000000   \n",
       "\n",
       "         2_way_label    3_way_label    6_way_label  \n",
       "count  564000.000000  564000.000000  564000.000000  \n",
       "mean        0.393761       1.187926       1.884012  \n",
       "std         0.488583       0.969604       1.782309  \n",
       "min         0.000000       0.000000       0.000000  \n",
       "25%         0.000000       0.000000       0.000000  \n",
       "50%         0.000000       2.000000       2.000000  \n",
       "75%         1.000000       2.000000       4.000000  \n",
       "max         1.000000       2.000000       5.000000  "
      ]
     },
     "execution_count": 3,
     "metadata": {},
     "output_type": "execute_result"
    }
   ],
   "source": [
    "tr_data.describe()"
   ]
  },
  {
   "cell_type": "code",
   "execution_count": 4,
   "metadata": {
    "_cell_guid": "8a89eec8-a3ec-458a-8965-33799354af03",
    "_uuid": "8aa3b5b6-296f-475d-b515-b48c777c68b6"
   },
   "outputs": [
    {
     "data": {
      "text/plain": [
       "count     564000\n",
       "unique         1\n",
       "top         True\n",
       "freq      564000\n",
       "Name: hasImage, dtype: object"
      ]
     },
     "execution_count": 4,
     "metadata": {},
     "output_type": "execute_result"
    }
   ],
   "source": [
    "tr_data[\"hasImage\"].describe()"
   ]
  },
  {
   "cell_type": "code",
   "execution_count": 5,
   "metadata": {
    "_cell_guid": "f2ea8385-a38d-479b-9ef0-66f916eb19fe",
    "_uuid": "ab118c98-6d62-4b4a-ab11-96bbb69ebcae"
   },
   "outputs": [
    {
     "data": {
      "text/plain": [
       "author                   28710\n",
       "clean_title                  0\n",
       "created_utc                  0\n",
       "domain                  167857\n",
       "hasImage                     0\n",
       "id                           0\n",
       "image_url                 1534\n",
       "linked_submission_id    396143\n",
       "num_comments            167857\n",
       "score                        0\n",
       "subreddit                    0\n",
       "title                        0\n",
       "upvote_ratio            167857\n",
       "2_way_label                  0\n",
       "3_way_label                  0\n",
       "6_way_label                  0\n",
       "dtype: int64"
      ]
     },
     "execution_count": 5,
     "metadata": {},
     "output_type": "execute_result"
    }
   ],
   "source": [
    "tr_data.isnull().sum()"
   ]
  },
  {
   "cell_type": "code",
   "execution_count": 6,
   "metadata": {
    "_cell_guid": "9117dad9-01d8-48a9-a093-4fd5ab185c35",
    "_uuid": "43dd27aa-fae5-4efc-b4e9-24556b8abee7"
   },
   "outputs": [
    {
     "data": {
      "text/plain": [
       "author                   3063\n",
       "clean_title                 0\n",
       "created_utc                 0\n",
       "domain                  17810\n",
       "hasImage                    0\n",
       "id                          0\n",
       "image_url                 173\n",
       "linked_submission_id    41532\n",
       "num_comments            17810\n",
       "score                       0\n",
       "subreddit                   0\n",
       "title                       0\n",
       "upvote_ratio            17810\n",
       "2_way_label                 0\n",
       "3_way_label                 0\n",
       "6_way_label                 0\n",
       "dtype: int64"
      ]
     },
     "execution_count": 6,
     "metadata": {},
     "output_type": "execute_result"
    }
   ],
   "source": [
    "vl_data.isnull().sum()"
   ]
  },
  {
   "cell_type": "code",
   "execution_count": 7,
   "metadata": {
    "_cell_guid": "d28ea1db-53af-426e-9719-60e76d159977",
    "_uuid": "86863654-d9e7-48b2-a345-ce0f2c402c54"
   },
   "outputs": [
    {
     "data": {
      "text/plain": [
       "author                   3068\n",
       "clean_title                 0\n",
       "created_utc                 0\n",
       "domain                  17472\n",
       "hasImage                    0\n",
       "id                          0\n",
       "image_url                 156\n",
       "linked_submission_id    41847\n",
       "num_comments            17472\n",
       "score                       0\n",
       "subreddit                   0\n",
       "title                       0\n",
       "upvote_ratio            17472\n",
       "2_way_label                 0\n",
       "3_way_label                 0\n",
       "6_way_label                 0\n",
       "dtype: int64"
      ]
     },
     "execution_count": 7,
     "metadata": {},
     "output_type": "execute_result"
    }
   ],
   "source": [
    "te_data.isnull().sum()"
   ]
  },
  {
   "cell_type": "code",
   "execution_count": 8,
   "metadata": {
    "_cell_guid": "d39c356e-228c-476e-8162-6fbc7c110728",
    "_uuid": "c4c76c8d-2c9e-4c07-9439-13321b7dd2ee"
   },
   "outputs": [
    {
     "data": {
      "text/plain": [
       "i.redd.it              176260\n",
       "i.imgur.com             74782\n",
       "imgur.com               29656\n",
       "i.reddituploads.com      3997\n",
       "theonion.com             3714\n",
       "Name: domain, dtype: int64"
      ]
     },
     "execution_count": 8,
     "metadata": {},
     "output_type": "execute_result"
    }
   ],
   "source": [
    "tr_data[\"domain\"].value_counts()[:5]"
   ]
  },
  {
   "cell_type": "code",
   "execution_count": 9,
   "metadata": {
    "_cell_guid": "7b36a674-cf78-47cc-bf9b-6dd19951de63",
    "_uuid": "4967e597-b90d-409f-ace0-1a19243e92e5"
   },
   "outputs": [
    {
     "data": {
      "text/plain": [
       "0.0    94725\n",
       "1.0    61657\n",
       "2.0    44296\n",
       "3.0    32610\n",
       "4.0    24630\n",
       "5.0    18434\n",
       "Name: num_comments, dtype: int64"
      ]
     },
     "execution_count": 9,
     "metadata": {},
     "output_type": "execute_result"
    }
   ],
   "source": [
    "tr_data[\"num_comments\"].value_counts()[:5]"
   ]
  },
  {
   "cell_type": "code",
   "execution_count": 10,
   "metadata": {
    "_cell_guid": "c0296784-7595-428d-bea8-bed26c71cf81",
    "_uuid": "bc6dd684-551b-4665-9f0e-bc9d59ba7afd"
   },
   "outputs": [],
   "source": [
    "tr_data[\"num_comments\"]=tr_data[\"num_comments\"].replace(np.nan,0)\n",
    "vl_data[\"num_comments\"]=vl_data[\"num_comments\"].replace(np.nan,0)\n",
    "te_data[\"num_comments\"]=te_data[\"num_comments\"].replace(np.nan,0)"
   ]
  },
  {
   "cell_type": "code",
   "execution_count": 11,
   "metadata": {
    "_cell_guid": "39784d8d-33ea-4855-8390-3d0643a23a84",
    "_uuid": "6304c21b-4295-4134-b20c-8841f675b205"
   },
   "outputs": [
    {
     "data": {
      "text/plain": [
       "2    37329\n",
       "3    34478\n",
       "1    27650\n",
       "5    24870\n",
       "4    23594\n",
       "Name: score, dtype: int64"
      ]
     },
     "execution_count": 11,
     "metadata": {},
     "output_type": "execute_result"
    }
   ],
   "source": [
    "tr_data[\"score\"].value_counts()[:5]"
   ]
  },
  {
   "cell_type": "code",
   "execution_count": 12,
   "metadata": {
    "_cell_guid": "f05cccda-126f-4ed0-9956-27fef0a9bd9f",
    "_uuid": "e459af05-8fcd-4e2e-9dd9-8e6ac396567c"
   },
   "outputs": [],
   "source": [
    "tr_data[\"score\"]=tr_data[\"score\"].replace(np.nan,2)\n",
    "vl_data[\"score\"]=vl_data[\"score\"].replace(np.nan,2)\n",
    "te_data[\"score\"]=te_data[\"score\"].replace(np.nan,2)\n",
    "\n",
    "tr_data[\"upvote_ratio\"]=tr_data[\"upvote_ratio\"].replace(np.nan,1.0)\n",
    "vl_data[\"upvote_ratio\"]=vl_data[\"upvote_ratio\"].replace(np.nan,1.0)\n",
    "te_data[\"upvote_ratio\"]=te_data[\"upvote_ratio\"].replace(np.nan,1.0)\n",
    "\n",
    "tr_data=tr_data.drop(['hasImage','author','id','domain','linked_submission_id','title'],axis=1)\n",
    "vl_data=vl_data.drop(['hasImage','author','id','domain','linked_submission_id','title'],axis=1)\n",
    "te_data=te_data.drop(['hasImage','author','id','domain','linked_submission_id','title'],axis=1)"
   ]
  },
  {
   "cell_type": "code",
   "execution_count": 13,
   "metadata": {
    "_cell_guid": "79efd737-8fbc-49fb-91d4-539b2e313d3e",
    "_uuid": "cef7f190-e92e-4bfe-a21b-cd493970cb09"
   },
   "outputs": [
    {
     "data": {
      "text/plain": [
       "psbattle_artwork         167857\n",
       "mildlyinteresting         86237\n",
       "photoshopbattles          55198\n",
       "pareidolia                47331\n",
       "fakehistoryporn           35576\n",
       "nottheonion               31977\n",
       "upliftingnews             23960\n",
       "fakealbumcovers           21725\n",
       "misleadingthumbnails      15962\n",
       "propagandaposters         13848\n",
       "subredditsimulator        11553\n",
       "confusing_perspective      8352\n",
       "savedyouaclick             7721\n",
       "theonion                   7548\n",
       "neutralnews                7512\n",
       "usnews                     5941\n",
       "usanews                    5875\n",
       "pic                        5381\n",
       "satire                     3845\n",
       "waterfordwhispersnews       363\n",
       "subsimulatorgpt2            231\n",
       "fakefacts                     7\n",
       "Name: subreddit, dtype: int64"
      ]
     },
     "execution_count": 13,
     "metadata": {},
     "output_type": "execute_result"
    }
   ],
   "source": [
    "\n",
    "tr_data[\"subreddit\"].value_counts()"
   ]
  },
  {
   "cell_type": "code",
   "execution_count": 14,
   "metadata": {
    "_cell_guid": "cb53076c-cb56-42c7-82c2-f2ae4d7e03de",
    "_uuid": "60174188-5538-4dfa-83ad-b823f367f1f5"
   },
   "outputs": [
    {
     "name": "stdout",
     "output_type": "stream",
     "text": [
      "(562466, 10)\n",
      "(59169, 10)\n",
      "(59163, 10)\n"
     ]
    }
   ],
   "source": [
    "tr_data.dropna(axis=0,inplace=True)\n",
    "vl_data.dropna(axis=0,inplace=True)\n",
    "te_data.dropna(axis=0,inplace=True)\n",
    "print(tr_data.shape)\n",
    "print(vl_data.shape)\n",
    "print(te_data.shape)"
   ]
  },
  {
   "cell_type": "code",
   "execution_count": 15,
   "metadata": {
    "_cell_guid": "406184ca-e8ea-4723-8d3e-d682fd902f23",
    "_uuid": "1575aacf-b797-4ebd-b2c2-1ca2c0a1139b"
   },
   "outputs": [
    {
     "data": {
      "text/html": [
       "<div>\n",
       "<style scoped>\n",
       "    .dataframe tbody tr th:only-of-type {\n",
       "        vertical-align: middle;\n",
       "    }\n",
       "\n",
       "    .dataframe tbody tr th {\n",
       "        vertical-align: top;\n",
       "    }\n",
       "\n",
       "    .dataframe thead th {\n",
       "        text-align: right;\n",
       "    }\n",
       "</style>\n",
       "<table border=\"1\" class=\"dataframe\">\n",
       "  <thead>\n",
       "    <tr style=\"text-align: right;\">\n",
       "      <th></th>\n",
       "      <th>clean_title</th>\n",
       "      <th>created_utc</th>\n",
       "      <th>image_url</th>\n",
       "      <th>num_comments</th>\n",
       "      <th>score</th>\n",
       "      <th>subreddit</th>\n",
       "      <th>upvote_ratio</th>\n",
       "      <th>2_way_label</th>\n",
       "      <th>3_way_label</th>\n",
       "      <th>6_way_label</th>\n",
       "    </tr>\n",
       "  </thead>\n",
       "  <tbody>\n",
       "    <tr>\n",
       "      <th>0</th>\n",
       "      <td>my walgreens offbrand mucinex was engraved wit...</td>\n",
       "      <td>1.551641e+09</td>\n",
       "      <td>https://external-preview.redd.it/WylDbZrnbvZdB...</td>\n",
       "      <td>2.0</td>\n",
       "      <td>12</td>\n",
       "      <td>mildlyinteresting</td>\n",
       "      <td>0.84</td>\n",
       "      <td>1</td>\n",
       "      <td>0</td>\n",
       "      <td>0</td>\n",
       "    </tr>\n",
       "    <tr>\n",
       "      <th>2</th>\n",
       "      <td>hackers leak emails from uae ambassador to us</td>\n",
       "      <td>1.496511e+09</td>\n",
       "      <td>https://external-preview.redd.it/6fNhdbc6K1vFA...</td>\n",
       "      <td>1.0</td>\n",
       "      <td>44</td>\n",
       "      <td>neutralnews</td>\n",
       "      <td>0.92</td>\n",
       "      <td>1</td>\n",
       "      <td>0</td>\n",
       "      <td>0</td>\n",
       "    </tr>\n",
       "  </tbody>\n",
       "</table>\n",
       "</div>"
      ],
      "text/plain": [
       "                                         clean_title   created_utc  \\\n",
       "0  my walgreens offbrand mucinex was engraved wit...  1.551641e+09   \n",
       "2      hackers leak emails from uae ambassador to us  1.496511e+09   \n",
       "\n",
       "                                           image_url  num_comments  score  \\\n",
       "0  https://external-preview.redd.it/WylDbZrnbvZdB...           2.0     12   \n",
       "2  https://external-preview.redd.it/6fNhdbc6K1vFA...           1.0     44   \n",
       "\n",
       "           subreddit  upvote_ratio  2_way_label  3_way_label  6_way_label  \n",
       "0  mildlyinteresting          0.84            1            0            0  \n",
       "2        neutralnews          0.92            1            0            0  "
      ]
     },
     "execution_count": 15,
     "metadata": {},
     "output_type": "execute_result"
    }
   ],
   "source": [
    "tr_samp_data=tr_data[tr_data[\"6_way_label\"]==0][:6000]\n",
    "tr_samp_data=tr_samp_data.append(tr_data[tr_data[\"6_way_label\"]==1][:6000])\n",
    "tr_samp_data=tr_samp_data.append(tr_data[tr_data[\"6_way_label\"]==2][:6000])\n",
    "tr_samp_data=tr_samp_data.append(tr_data[tr_data[\"6_way_label\"]==3][:6000])\n",
    "tr_samp_data=tr_samp_data.append(tr_data[tr_data[\"6_way_label\"]==4][:6000])\n",
    "tr_samp_data=tr_samp_data.append(tr_data[tr_data[\"6_way_label\"]==5][:6000])\n",
    "tr_samp_data.head(2)"
   ]
  },
  {
   "cell_type": "code",
   "execution_count": 16,
   "metadata": {
    "_cell_guid": "1562dc19-9b65-49d2-91f3-5655c5e96887",
    "_uuid": "c4fb8984-ecd6-4da0-a156-0611bbd55f6f"
   },
   "outputs": [
    {
     "data": {
      "text/html": [
       "<div>\n",
       "<style scoped>\n",
       "    .dataframe tbody tr th:only-of-type {\n",
       "        vertical-align: middle;\n",
       "    }\n",
       "\n",
       "    .dataframe tbody tr th {\n",
       "        vertical-align: top;\n",
       "    }\n",
       "\n",
       "    .dataframe thead th {\n",
       "        text-align: right;\n",
       "    }\n",
       "</style>\n",
       "<table border=\"1\" class=\"dataframe\">\n",
       "  <thead>\n",
       "    <tr style=\"text-align: right;\">\n",
       "      <th></th>\n",
       "      <th>clean_title</th>\n",
       "      <th>created_utc</th>\n",
       "      <th>image_url</th>\n",
       "      <th>num_comments</th>\n",
       "      <th>score</th>\n",
       "      <th>subreddit</th>\n",
       "      <th>upvote_ratio</th>\n",
       "      <th>2_way_label</th>\n",
       "      <th>3_way_label</th>\n",
       "      <th>6_way_label</th>\n",
       "    </tr>\n",
       "  </thead>\n",
       "  <tbody>\n",
       "    <tr>\n",
       "      <th>0</th>\n",
       "      <td>my xbox controller says hi</td>\n",
       "      <td>1.567436e+09</td>\n",
       "      <td>https://preview.redd.it/l0ga0tug17k31.jpg?widt...</td>\n",
       "      <td>4.0</td>\n",
       "      <td>25</td>\n",
       "      <td>mildlyinteresting</td>\n",
       "      <td>0.72</td>\n",
       "      <td>1</td>\n",
       "      <td>0</td>\n",
       "      <td>0</td>\n",
       "    </tr>\n",
       "    <tr>\n",
       "      <th>1</th>\n",
       "      <td>new image from the mandalorian</td>\n",
       "      <td>1.567745e+09</td>\n",
       "      <td>https://external-preview.redd.it/VX7bXDu9Gl8UZ...</td>\n",
       "      <td>5.0</td>\n",
       "      <td>21</td>\n",
       "      <td>photoshopbattles</td>\n",
       "      <td>0.92</td>\n",
       "      <td>1</td>\n",
       "      <td>0</td>\n",
       "      <td>0</td>\n",
       "    </tr>\n",
       "  </tbody>\n",
       "</table>\n",
       "</div>"
      ],
      "text/plain": [
       "                      clean_title   created_utc  \\\n",
       "0      my xbox controller says hi  1.567436e+09   \n",
       "1  new image from the mandalorian  1.567745e+09   \n",
       "\n",
       "                                           image_url  num_comments  score  \\\n",
       "0  https://preview.redd.it/l0ga0tug17k31.jpg?widt...           4.0     25   \n",
       "1  https://external-preview.redd.it/VX7bXDu9Gl8UZ...           5.0     21   \n",
       "\n",
       "           subreddit  upvote_ratio  2_way_label  3_way_label  6_way_label  \n",
       "0  mildlyinteresting          0.72            1            0            0  \n",
       "1   photoshopbattles          0.92            1            0            0  "
      ]
     },
     "execution_count": 16,
     "metadata": {},
     "output_type": "execute_result"
    }
   ],
   "source": [
    "vl_samp_data=vl_data[vl_data[\"6_way_label\"]==0][:1000]\n",
    "vl_samp_data=vl_samp_data.append(vl_data[vl_data[\"6_way_label\"]==1][:1000])\n",
    "vl_samp_data=vl_samp_data.append(vl_data[vl_data[\"6_way_label\"]==2][:1000])\n",
    "vl_samp_data=vl_samp_data.append(vl_data[vl_data[\"6_way_label\"]==3][:1000])\n",
    "vl_samp_data=vl_samp_data.append(vl_data[vl_data[\"6_way_label\"]==4][:1000])\n",
    "vl_samp_data=vl_samp_data.append(vl_data[vl_data[\"6_way_label\"]==5][:1000])\n",
    "vl_samp_data.head(2)"
   ]
  },
  {
   "cell_type": "code",
   "execution_count": 17,
   "metadata": {
    "_cell_guid": "feca4145-4b67-4e71-a396-f040c96d5eb0",
    "_uuid": "6266e2e7-0ad5-4f54-81b4-054b0ef9176f"
   },
   "outputs": [
    {
     "data": {
      "text/html": [
       "<div>\n",
       "<style scoped>\n",
       "    .dataframe tbody tr th:only-of-type {\n",
       "        vertical-align: middle;\n",
       "    }\n",
       "\n",
       "    .dataframe tbody tr th {\n",
       "        vertical-align: top;\n",
       "    }\n",
       "\n",
       "    .dataframe thead th {\n",
       "        text-align: right;\n",
       "    }\n",
       "</style>\n",
       "<table border=\"1\" class=\"dataframe\">\n",
       "  <thead>\n",
       "    <tr style=\"text-align: right;\">\n",
       "      <th></th>\n",
       "      <th>clean_title</th>\n",
       "      <th>created_utc</th>\n",
       "      <th>image_url</th>\n",
       "      <th>num_comments</th>\n",
       "      <th>score</th>\n",
       "      <th>subreddit</th>\n",
       "      <th>upvote_ratio</th>\n",
       "      <th>2_way_label</th>\n",
       "      <th>3_way_label</th>\n",
       "      <th>6_way_label</th>\n",
       "    </tr>\n",
       "  </thead>\n",
       "  <tbody>\n",
       "    <tr>\n",
       "      <th>2</th>\n",
       "      <td>pd phoenix car thief gets instructions from yo...</td>\n",
       "      <td>1.560492e+09</td>\n",
       "      <td>https://external-preview.redd.it/1A2_4VwgS8Qd2...</td>\n",
       "      <td>2.0</td>\n",
       "      <td>16</td>\n",
       "      <td>nottheonion</td>\n",
       "      <td>0.89</td>\n",
       "      <td>1</td>\n",
       "      <td>0</td>\n",
       "      <td>0</td>\n",
       "    </tr>\n",
       "    <tr>\n",
       "      <th>3</th>\n",
       "      <td>as trump accuses iran he has one problem his o...</td>\n",
       "      <td>1.560606e+09</td>\n",
       "      <td>https://external-preview.redd.it/9BKRcgvaobpTo...</td>\n",
       "      <td>4.0</td>\n",
       "      <td>45</td>\n",
       "      <td>neutralnews</td>\n",
       "      <td>0.78</td>\n",
       "      <td>1</td>\n",
       "      <td>0</td>\n",
       "      <td>0</td>\n",
       "    </tr>\n",
       "  </tbody>\n",
       "</table>\n",
       "</div>"
      ],
      "text/plain": [
       "                                         clean_title   created_utc  \\\n",
       "2  pd phoenix car thief gets instructions from yo...  1.560492e+09   \n",
       "3  as trump accuses iran he has one problem his o...  1.560606e+09   \n",
       "\n",
       "                                           image_url  num_comments  score  \\\n",
       "2  https://external-preview.redd.it/1A2_4VwgS8Qd2...           2.0     16   \n",
       "3  https://external-preview.redd.it/9BKRcgvaobpTo...           4.0     45   \n",
       "\n",
       "     subreddit  upvote_ratio  2_way_label  3_way_label  6_way_label  \n",
       "2  nottheonion          0.89            1            0            0  \n",
       "3  neutralnews          0.78            1            0            0  "
      ]
     },
     "execution_count": 17,
     "metadata": {},
     "output_type": "execute_result"
    }
   ],
   "source": [
    "te_samp_data=te_data[te_data[\"6_way_label\"]==0][:1000]\n",
    "te_samp_data=te_samp_data.append(te_data[te_data[\"6_way_label\"]==1][:1000])\n",
    "te_samp_data=te_samp_data.append(te_data[te_data[\"6_way_label\"]==2][:1000])\n",
    "te_samp_data=te_samp_data.append(te_data[te_data[\"6_way_label\"]==3][:1000])\n",
    "te_samp_data=te_samp_data.append(te_data[te_data[\"6_way_label\"]==4][:1000])\n",
    "te_samp_data=te_samp_data.append(te_data[te_data[\"6_way_label\"]==5][:1000])\n",
    "te_samp_data.head(2)"
   ]
  },
  {
   "cell_type": "markdown",
   "metadata": {
    "_cell_guid": "d2c32c6f-726b-4a8b-8f21-c0c927c81044",
    "_uuid": "65833051-dc2b-424b-b130-26f59382ea3d"
   },
   "source": [
    "# Average Word2Vec for Text Data:"
   ]
  },
  {
   "cell_type": "code",
   "execution_count": 18,
   "metadata": {
    "_cell_guid": "503b4e7a-74dc-4075-b820-3a69e815b80c",
    "_uuid": "da519970-5ca4-47fd-a915-4d53aed3eb34"
   },
   "outputs": [
    {
     "data": {
      "text/plain": [
       "'man calm better'"
      ]
     },
     "execution_count": 18,
     "metadata": {},
     "output_type": "execute_result"
    }
   ],
   "source": [
    "from nltk.stem.porter import *\n",
    "stemmer = PorterStemmer()\n",
    "\n",
    "stopwords= set(['br', 'the', 'i', 'me', 'my', 'myself', 'we', 'our', 'ours', 'ourselves', 'you', \"you're\", \"you've\",\\\n",
    "            \"you'll\", \"you'd\", 'your', 'yours', 'yourself', 'yourselves', 'he', 'him', 'his', 'himself', \\\n",
    "            'she', \"she's\", 'her', 'hers', 'herself', 'it', \"it's\", 'its', 'itself', 'they', 'them', 'their',\\\n",
    "            'theirs', 'themselves', 'what', 'which', 'who', 'whom', 'this', 'that', \"that'll\", 'these', 'those', \\\n",
    "            'am', 'is', 'are', 'was', 'were', 'be', 'been', 'being', 'have', 'has', 'had', 'having', 'do', 'does', \\\n",
    "            'did', 'doing', 'a', 'an', 'the', 'and', 'but', 'if', 'or', 'because', 'as', 'until', 'while', 'of', \\\n",
    "            'at', 'by', 'for', 'with', 'about', 'against', 'between', 'into', 'through', 'during', 'before', 'after',\\\n",
    "            'above', 'below', 'to', 'from', 'up', 'down', 'in', 'out', 'on', 'off', 'over', 'under', 'again', 'further',\\\n",
    "            'then', 'once', 'here', 'there', 'when', 'where', 'why', 'how', 'all', 'any', 'both', 'each', 'few', 'more',\\\n",
    "            'most', 'other', 'some', 'such', 'only', 'own', 'same', 'so', 'than', 'too', 'very', \\\n",
    "            's', 't', 'can', 'will', 'just', 'don', \"don't\", 'should', \"should've\", 'now', 'd', 'll', 'm', 'o', 're', \\\n",
    "            've', 'y', 'ain', 'aren', \"aren't\", 'couldn', \"couldn't\", 'didn', \"didn't\", 'doesn', \"doesn't\", 'hadn',\\\n",
    "            \"hadn't\", 'hasn', \"hasn't\", 'haven', \"haven't\", 'isn', \"isn't\", 'ma', 'mightn', \"mightn't\", 'mustn',\\\n",
    "            \"mustn't\", 'needn', \"needn't\", 'shan', \"shan't\", 'shouldn', \"shouldn't\", 'wasn', \"wasn't\", 'weren', \"weren't\", \\\n",
    "            'won', \"won't\", 'wouldn', \"wouldn't\"])\n",
    "\n",
    "def preprocess_sent(line):\n",
    "    phrase=[stemmer.stem(l) for l in line.split()]\n",
    "    phrase=[l for l in phrase if l not in stopwords]\n",
    "    phrase=\" \".join(phrase)\n",
    "    return phrase\n",
    "preprocess_sent(\"man is calm and better\")"
   ]
  },
  {
   "cell_type": "code",
   "execution_count": 19,
   "metadata": {
    "_cell_guid": "67f4ba65-2959-4ba9-961b-e3c704b69526",
    "_uuid": "7e0e2771-172a-49e6-83b8-dfe8c2151b06"
   },
   "outputs": [
    {
     "name": "stderr",
     "output_type": "stream",
     "text": [
      "100%|██████████████████████████████████████████████████████████████████████████| 36000/36000 [00:13<00:00, 2598.74it/s]\n",
      "100%|██████████████████████████████████████████████████████████████████████████| 36000/36000 [00:03<00:00, 9554.24it/s]\n"
     ]
    },
    {
     "name": "stdout",
     "output_type": "stream",
     "text": [
      "36000\n",
      "300\n"
     ]
    }
   ],
   "source": [
    "train_sentences=[]\n",
    "\n",
    "for sent in tqdm(list(tr_samp_data[\"clean_title\"].values)):\n",
    "    train_sentences.append(preprocess_sent(sent))\n",
    "\n",
    "import pickle\n",
    "with open('word2vec_model', 'rb') as f:\n",
    "    w2v_model = pickle.load(f)\n",
    "    w2v_words =  set(w2v_model.keys())\n",
    "\n",
    "    \n",
    "train_sent_vectors = []; \n",
    "for sent in tqdm(train_sentences):\n",
    "    sent_vec = np.zeros(300)\n",
    "    cnt_words =0; \n",
    "    for word in sent: \n",
    "        if word in w2v_words:\n",
    "            vec = w2v_model[word]\n",
    "            sent_vec += vec\n",
    "            cnt_words += 1\n",
    "    if cnt_words != 0:\n",
    "        sent_vec /= cnt_words\n",
    "    train_sent_vectors.append(sent_vec)\n",
    "print(len(train_sent_vectors))\n",
    "print(len(train_sent_vectors[0]))\n",
    "\n",
    "train_sent_vectors=np.array(train_sent_vectors)"
   ]
  },
  {
   "cell_type": "code",
   "execution_count": 20,
   "metadata": {
    "_cell_guid": "4501cf64-5d22-4197-8291-5e59b8290a1a",
    "_uuid": "a8efd00f-d16a-4041-9895-134aed63bb19"
   },
   "outputs": [
    {
     "name": "stderr",
     "output_type": "stream",
     "text": [
      "100%|████████████████████████████████████████████████████████████████████████████| 6000/6000 [00:02<00:00, 2373.86it/s]\n",
      "100%|███████████████████████████████████████████████████████████████████████████| 6000/6000 [00:00<00:00, 10070.78it/s]"
     ]
    },
    {
     "name": "stdout",
     "output_type": "stream",
     "text": [
      "6000\n",
      "300\n"
     ]
    },
    {
     "name": "stderr",
     "output_type": "stream",
     "text": [
      "\n"
     ]
    }
   ],
   "source": [
    "valid_sentences=[]\n",
    "\n",
    "for sent in tqdm(list(vl_samp_data[\"clean_title\"].values)):\n",
    "    valid_sentences.append(preprocess_sent(sent))\n",
    "\n",
    "\n",
    "valid_sent_vectors = []; \n",
    "for sent in tqdm(valid_sentences):\n",
    "    sent_vec = np.zeros(300)\n",
    "    cnt_words =0; \n",
    "    for word in sent: \n",
    "        if word in w2v_words:\n",
    "            vec = w2v_model[word]\n",
    "            sent_vec += vec\n",
    "            cnt_words += 1\n",
    "    if cnt_words != 0:\n",
    "        sent_vec /= cnt_words\n",
    "    valid_sent_vectors.append(sent_vec)\n",
    "print(len(valid_sent_vectors))\n",
    "print(len(valid_sent_vectors[0]))\n",
    "\n",
    "valid_sent_vectors=np.array(valid_sent_vectors)"
   ]
  },
  {
   "cell_type": "code",
   "execution_count": 21,
   "metadata": {
    "_cell_guid": "6fafcd65-93be-4c50-b491-f9ff463c99a0",
    "_uuid": "3484eba5-3cc1-41bd-82f5-b941d53d0011"
   },
   "outputs": [
    {
     "name": "stderr",
     "output_type": "stream",
     "text": [
      "100%|████████████████████████████████████████████████████████████████████████████| 6000/6000 [00:02<00:00, 2614.03it/s]\n",
      "100%|████████████████████████████████████████████████████████████████████████████| 6000/6000 [00:00<00:00, 6954.89it/s]"
     ]
    },
    {
     "name": "stdout",
     "output_type": "stream",
     "text": [
      "6000\n",
      "300\n"
     ]
    },
    {
     "name": "stderr",
     "output_type": "stream",
     "text": [
      "\n"
     ]
    }
   ],
   "source": [
    "test_sentences=[]\n",
    "\n",
    "for sent in tqdm(list(te_samp_data[\"clean_title\"].values)):\n",
    "    test_sentences.append(preprocess_sent(sent))\n",
    "\n",
    "\n",
    "test_sent_vectors = []; \n",
    "for sent in tqdm(test_sentences):\n",
    "    sent_vec = np.zeros(300)\n",
    "    cnt_words =0; \n",
    "    for word in sent: \n",
    "        if word in w2v_words:\n",
    "            vec = w2v_model[word]\n",
    "            sent_vec += vec\n",
    "            cnt_words += 1\n",
    "    if cnt_words != 0:\n",
    "        sent_vec /= cnt_words\n",
    "    test_sent_vectors.append(sent_vec)\n",
    "print(len(test_sent_vectors))\n",
    "print(len(test_sent_vectors[0]))\n",
    "\n",
    "test_sent_vectors=np.array(test_sent_vectors)"
   ]
  },
  {
   "cell_type": "markdown",
   "metadata": {
    "_cell_guid": "46b17aa7-f3f8-4540-9239-d3d075e41677",
    "_uuid": "fd65e6d7-a124-43e3-9bee-65d6b1a81465"
   },
   "source": [
    "# Data Preparation:"
   ]
  },
  {
   "cell_type": "code",
   "execution_count": 22,
   "metadata": {
    "_cell_guid": "75c5eb82-ab7d-4a83-b7f6-994667443bc0",
    "_uuid": "92c2a202-8496-4362-86d6-c2202a15444e"
   },
   "outputs": [
    {
     "name": "stdout",
     "output_type": "stream",
     "text": [
      "Model: \"functional_1\"\n",
      "_________________________________________________________________\n",
      "Layer (type)                 Output Shape              Param #   \n",
      "=================================================================\n",
      "input_1 (InputLayer)         [(None, 224, 224, 3)]     0         \n",
      "_________________________________________________________________\n",
      "block1_conv1 (Conv2D)        (None, 224, 224, 64)      1792      \n",
      "_________________________________________________________________\n",
      "block1_conv2 (Conv2D)        (None, 224, 224, 64)      36928     \n",
      "_________________________________________________________________\n",
      "block1_pool (MaxPooling2D)   (None, 112, 112, 64)      0         \n",
      "_________________________________________________________________\n",
      "block2_conv1 (Conv2D)        (None, 112, 112, 128)     73856     \n",
      "_________________________________________________________________\n",
      "block2_conv2 (Conv2D)        (None, 112, 112, 128)     147584    \n",
      "_________________________________________________________________\n",
      "block2_pool (MaxPooling2D)   (None, 56, 56, 128)       0         \n",
      "_________________________________________________________________\n",
      "block3_conv1 (Conv2D)        (None, 56, 56, 256)       295168    \n",
      "_________________________________________________________________\n",
      "block3_conv2 (Conv2D)        (None, 56, 56, 256)       590080    \n",
      "_________________________________________________________________\n",
      "block3_conv3 (Conv2D)        (None, 56, 56, 256)       590080    \n",
      "_________________________________________________________________\n",
      "block3_pool (MaxPooling2D)   (None, 28, 28, 256)       0         \n",
      "_________________________________________________________________\n",
      "block4_conv1 (Conv2D)        (None, 28, 28, 512)       1180160   \n",
      "_________________________________________________________________\n",
      "block4_conv2 (Conv2D)        (None, 28, 28, 512)       2359808   \n",
      "_________________________________________________________________\n",
      "block4_conv3 (Conv2D)        (None, 28, 28, 512)       2359808   \n",
      "_________________________________________________________________\n",
      "block4_pool (MaxPooling2D)   (None, 14, 14, 512)       0         \n",
      "_________________________________________________________________\n",
      "block5_conv1 (Conv2D)        (None, 14, 14, 512)       2359808   \n",
      "_________________________________________________________________\n",
      "block5_conv2 (Conv2D)        (None, 14, 14, 512)       2359808   \n",
      "_________________________________________________________________\n",
      "block5_conv3 (Conv2D)        (None, 14, 14, 512)       2359808   \n",
      "_________________________________________________________________\n",
      "block5_pool (MaxPooling2D)   (None, 7, 7, 512)         0         \n",
      "_________________________________________________________________\n",
      "flatten (Flatten)            (None, 25088)             0         \n",
      "_________________________________________________________________\n",
      "fc1 (Dense)                  (None, 4096)              102764544 \n",
      "_________________________________________________________________\n",
      "fc2 (Dense)                  (None, 4096)              16781312  \n",
      "=================================================================\n",
      "Total params: 134,260,544\n",
      "Trainable params: 134,260,544\n",
      "Non-trainable params: 0\n",
      "_________________________________________________________________\n"
     ]
    }
   ],
   "source": [
    "from tensorflow.keras import applications\n",
    "from tensorflow.keras.layers import Input\n",
    "\n",
    "import tensorflow as tf \n",
    "\n",
    "\n",
    "model = applications.VGG16(weights=\"imagenet\")\n",
    "\n",
    "model.layers.pop()\n",
    "model = tf.keras.Model(inputs=model.inputs, outputs=model.layers[-2].output)\n",
    "model.summary()"
   ]
  },
  {
   "cell_type": "code",
   "execution_count": 23,
   "metadata": {
    "_cell_guid": "3841556f-ea8a-49eb-ae19-77d3ae801ad6",
    "_uuid": "cc713450-226b-42df-bdc8-80fa247279b7"
   },
   "outputs": [],
   "source": [
    "with open('tr_img_0to10k.pkl', 'rb') as f:\n",
    "    train_images = pickle.load(f)\n",
    "with open('tr_img_10kto20k.pkl', 'rb') as f:\n",
    "    train_images.extend(pickle.load(f))\n",
    "with open('tr_img_20kto36k.pkl', 'rb') as f:\n",
    "    train_images.extend(pickle.load(f))"
   ]
  },
  {
   "cell_type": "code",
   "execution_count": 24,
   "metadata": {
    "_cell_guid": "ec9a736a-6377-48a4-8231-05e1e42666fa",
    "_uuid": "2e0b4272-0e79-458c-9f29-7118aeb6f089"
   },
   "outputs": [],
   "source": [
    "train_images=np.array(train_images)"
   ]
  },
  {
   "cell_type": "code",
   "execution_count": 25,
   "metadata": {
    "_cell_guid": "915fe4f6-ae96-4f4b-9e96-8823eeb13e87",
    "_uuid": "482493a7-eddb-49f4-aa1f-5eae37f554ef"
   },
   "outputs": [],
   "source": [
    "with open('tr_vgg_features.pkl', 'rb') as f:\n",
    "    train_features = pickle.load(f)\n",
    "\n",
    "train_features = np.array(train_features)    \n",
    "train_features = train_features.reshape(35555,4096)"
   ]
  },
  {
   "cell_type": "code",
   "execution_count": 26,
   "metadata": {
    "_cell_guid": "f2d6b28b-bf2c-42a5-8255-fa79d36d6110",
    "_uuid": "82f0bd7c-0595-4c75-a805-5b95ff80206d"
   },
   "outputs": [],
   "source": [
    "from sklearn.decomposition import PCA\n",
    "\n",
    "train_features = PCA(n_components=10).fit_transform(train_features)"
   ]
  },
  {
   "cell_type": "code",
   "execution_count": 27,
   "metadata": {
    "_cell_guid": "6bf75a79-f4ff-4279-92a4-627c8dd24b7b",
    "_uuid": "88df67a4-10d1-4832-ad2b-d0ea95c88e76"
   },
   "outputs": [
    {
     "name": "stderr",
     "output_type": "stream",
     "text": [
      "100%|█████████████████████████████████████████████████████████████████████████| 36000/36000 [00:00<00:00, 80392.79it/s]\n"
     ]
    }
   ],
   "source": [
    "ind=[]\n",
    "\n",
    "for i in tqdm(range(36000)):\n",
    "    if train_images[i]=='nan':\n",
    "        continue\n",
    "    ind.append(i)\n",
    "    \n",
    "train_images=np.array(train_images)[ind]\n",
    "\n",
    "train_sent_vectors=train_sent_vectors[ind]\n",
    "\n",
    "y_train=np.array(tr_samp_data['6_way_label'])[ind]\n",
    "\n",
    "cat=np.array(tr_samp_data[[ '2_way_label', '3_way_label']].values)[ind]\n",
    "\n",
    "x1=np.array(tr_samp_data[[ 'created_utc', 'num_comments', 'score',\n",
    "        'upvote_ratio']].values)[ind]\n",
    "\n",
    "\n",
    "from sklearn.preprocessing import OneHotEncoder \n",
    "enc1 = OneHotEncoder() \n",
    "\n",
    "enc = enc1.fit_transform(tr_samp_data[['subreddit']]).toarray() \n",
    "\n",
    "from sklearn.preprocessing import Normalizer\n",
    "\n",
    "trans = Normalizer().fit(x1) \n",
    "\n",
    "x1=np.hstack((train_sent_vectors,x1))\n",
    "x1=np.hstack((train_features,x1))\n",
    "x1 = trans.transform(x1)\n",
    "\n",
    "enc=enc[ind]\n",
    "enc=np.hstack((enc,cat))\n",
    "x=np.hstack((x1,enc))\n"
   ]
  },
  {
   "cell_type": "code",
   "execution_count": 29,
   "metadata": {
    "_cell_guid": "87ccab3a-c782-44cd-9be2-75ec06c95a4d",
    "_uuid": "eae9c2e5-acc2-4627-97c1-5ef78109ff63"
   },
   "outputs": [
    {
     "name": "stderr",
     "output_type": "stream",
     "text": [
      "100%|███████████████████████████████████████████████████████████████████████████| 6000/6000 [00:00<00:00, 91153.11it/s]\n",
      "100%|████████████████████████████████████████████████████████████████████████████| 5909/5909 [2:39:18<00:00,  1.62s/it]\n"
     ]
    }
   ],
   "source": [
    "with open('val_images.pkl', 'rb') as f:\n",
    "    valid_images = pickle.load(f)\n",
    "    \n",
    "ind=[]\n",
    "\n",
    "for i in tqdm(range(6000)):\n",
    "    if valid_images[i]=='nan':\n",
    "        continue\n",
    "    ind.append(i)\n",
    "    \n",
    "valid_images=np.array(valid_images)[ind]\n",
    "\n",
    "valid_sent_vectors=valid_sent_vectors[ind]\n",
    "\n",
    "y_val=np.array(vl_samp_data['6_way_label'])[ind]\n",
    "\n",
    "\n",
    "\n",
    "cat=np.array(vl_samp_data[[ '2_way_label', '3_way_label']].values)[ind]\n",
    "\n",
    "x1=np.array(vl_samp_data[[ 'created_utc', 'num_comments', 'score',\n",
    "        'upvote_ratio']].values)[ind]\n",
    "\n",
    "enc = enc1.transform(vl_samp_data[['subreddit']]).toarray()  \n",
    "\n",
    "valid_features=[]\n",
    "\n",
    "\n",
    "for i in tqdm(range(valid_images.shape[0])):\n",
    "    image= cv2.resize(valid_images[i], (224,224))\n",
    "    img=image.reshape(1,224,224,3)\n",
    "    \n",
    "    valid_features.append(model.predict(img))\n",
    "    \n",
    "valid_features=np.array(valid_features)\n",
    "\n",
    "valid_features=valid_features.reshape(5909,4096)\n",
    "\n",
    "valid_features = PCA(n_components=10).fit_transform(valid_features) \n",
    "\n",
    "x1=np.hstack((valid_sent_vectors,x1))\n",
    "x1=np.hstack((valid_features,x1))\n",
    "x1 = trans.transform(x1)\n",
    "\n",
    "enc=enc[ind]\n",
    "enc=np.hstack((enc,cat))\n",
    "v=np.hstack((x1,enc))"
   ]
  },
  {
   "cell_type": "code",
   "execution_count": 290,
   "metadata": {
    "_cell_guid": "ab60f778-f6e7-4554-a00d-51e9af1a6567",
    "_uuid": "62b5d1d3-edc3-4a9a-a432-d0604ef43b01"
   },
   "outputs": [
    {
     "name": "stderr",
     "output_type": "stream",
     "text": [
      "100%|██████████| 6000/6000 [00:00<00:00, 155379.12it/s]\n",
      "100%|██████████| 5910/5910 [04:11<00:00, 23.53it/s]\n"
     ]
    }
   ],
   "source": [
    "with open('../input/valid-test-img-arrays/test_images.pkl', 'rb') as f:\n",
    "    test_images = pickle.load(f)\n",
    "    \n",
    "ind=[]\n",
    "\n",
    "for i in tqdm(range(6000)):\n",
    "    if test_images[i]=='nan':\n",
    "        continue\n",
    "    ind.append(i)\n",
    "    \n",
    "test_images=np.array(test_images)[ind]\n",
    "\n",
    "test_sent_vectors=test_sent_vectors[ind]\n",
    "\n",
    "y_test=np.array(te_samp_data['6_way_label'])[ind]\n",
    "\n",
    "\n",
    "cat=np.array(te_samp_data[[ '2_way_label', '3_way_label']].values)[ind]\n",
    "\n",
    "x1=np.array(te_samp_data[[ 'created_utc', 'num_comments', 'score',\n",
    "        'upvote_ratio']].values)[ind]\n",
    "\n",
    "enc = enc1.transform(te_samp_data[['subreddit']]).toarray()  \n",
    "\n",
    "test_features=[]\n",
    "\n",
    "\n",
    "for i in tqdm(range(test_images.shape[0])):\n",
    "    image= cv2.resize(test_images[i], (224,224))\n",
    "    img=image.reshape(1,224,224,3)\n",
    "    \n",
    "    test_features.append(model.predict(img))\n",
    "    \n",
    "test_features=np.array(test_features)\n",
    "\n",
    "test_features=test_features.reshape(5910,4096)\n",
    "\n",
    "\n",
    "test_features = PCA(n_components=10).fit_transform(test_features)\n",
    "\n",
    "\n",
    "x1=np.hstack((test_sent_vectors,x1))\n",
    "x1=np.hstack((test_features,x1))\n",
    "x1 = trans.transform(x1)\n",
    "\n",
    "enc=enc[ind]\n",
    "enc=np.hstack((enc,cat))\n",
    "x_test=np.hstack((x1,enc))"
   ]
  },
  {
   "cell_type": "markdown",
   "metadata": {
    "_cell_guid": "2acad809-62ef-47f9-9a47-bda2aa3e281a",
    "_uuid": "77f8fb1e-362c-4aa6-bbe4-6ee7b30b69d4"
   },
   "source": [
    "# Train and validation data:"
   ]
  },
  {
   "cell_type": "code",
   "execution_count": 28,
   "metadata": {
    "_cell_guid": "4ab326f0-ac6c-46f4-baa0-3fc86cd4be43",
    "_uuid": "74488f36-09f4-49ff-8918-66b4c3479f3c"
   },
   "outputs": [
    {
     "ename": "NameError",
     "evalue": "name 'v' is not defined",
     "output_type": "error",
     "traceback": [
      "\u001b[1;31m---------------------------------------------------------------------------\u001b[0m",
      "\u001b[1;31mNameError\u001b[0m                                 Traceback (most recent call last)",
      "\u001b[1;32m<ipython-input-28-88b6369e4ad4>\u001b[0m in \u001b[0;36m<module>\u001b[1;34m\u001b[0m\n\u001b[0;32m      3\u001b[0m \u001b[0mx_train\u001b[0m\u001b[1;33m,\u001b[0m\u001b[0my_train\u001b[0m\u001b[1;33m=\u001b[0m\u001b[0mx\u001b[0m\u001b[1;33m[\u001b[0m\u001b[0mtr_ind\u001b[0m\u001b[1;33m]\u001b[0m\u001b[1;33m,\u001b[0m\u001b[0my_train\u001b[0m\u001b[1;33m[\u001b[0m\u001b[0mtr_ind\u001b[0m\u001b[1;33m]\u001b[0m\u001b[1;33m\u001b[0m\u001b[1;33m\u001b[0m\u001b[0m\n\u001b[0;32m      4\u001b[0m \u001b[1;33m\u001b[0m\u001b[0m\n\u001b[1;32m----> 5\u001b[1;33m \u001b[0mvl_ind\u001b[0m\u001b[1;33m=\u001b[0m\u001b[0mrandom\u001b[0m\u001b[1;33m.\u001b[0m\u001b[0msample\u001b[0m\u001b[1;33m(\u001b[0m\u001b[0mrange\u001b[0m\u001b[1;33m(\u001b[0m\u001b[1;36m0\u001b[0m\u001b[1;33m,\u001b[0m\u001b[0mv\u001b[0m\u001b[1;33m.\u001b[0m\u001b[0mshape\u001b[0m\u001b[1;33m[\u001b[0m\u001b[1;36m0\u001b[0m\u001b[1;33m]\u001b[0m\u001b[1;33m)\u001b[0m\u001b[1;33m,\u001b[0m\u001b[0mv\u001b[0m\u001b[1;33m.\u001b[0m\u001b[0mshape\u001b[0m\u001b[1;33m[\u001b[0m\u001b[1;36m0\u001b[0m\u001b[1;33m]\u001b[0m\u001b[1;33m)\u001b[0m\u001b[1;33m\u001b[0m\u001b[1;33m\u001b[0m\u001b[0m\n\u001b[0m\u001b[0;32m      6\u001b[0m \u001b[1;33m\u001b[0m\u001b[0m\n\u001b[0;32m      7\u001b[0m \u001b[0mx_val\u001b[0m\u001b[1;33m,\u001b[0m\u001b[0my_val\u001b[0m\u001b[1;33m=\u001b[0m\u001b[0mv\u001b[0m\u001b[1;33m[\u001b[0m\u001b[0mvl_ind\u001b[0m\u001b[1;33m]\u001b[0m\u001b[1;33m,\u001b[0m\u001b[0my_val\u001b[0m\u001b[1;33m[\u001b[0m\u001b[0mvl_ind\u001b[0m\u001b[1;33m]\u001b[0m\u001b[1;33m\u001b[0m\u001b[1;33m\u001b[0m\u001b[0m\n",
      "\u001b[1;31mNameError\u001b[0m: name 'v' is not defined"
     ]
    }
   ],
   "source": [
    "tr_ind=random.sample(range(0,x.shape[0]),x.shape[0])\n",
    "\n",
    "x_train,y_train=x[tr_ind],y_train[tr_ind]\n",
    "\n",
    "vl_ind=random.sample(range(0,v.shape[0]),v.shape[0])\n",
    "\n",
    "x_val,y_val=v[vl_ind],y_val[vl_ind]"
   ]
  },
  {
   "cell_type": "code",
   "execution_count": 292,
   "metadata": {},
   "outputs": [
    {
     "name": "stdout",
     "output_type": "stream",
     "text": [
      "(35555, 338)\n"
     ]
    }
   ],
   "source": [
    "print(x_train.shape)"
   ]
  },
  {
   "cell_type": "code",
   "execution_count": 293,
   "metadata": {},
   "outputs": [],
   "source": [
    "import tensorflow as tf\n",
    "\n",
    "y_train = tf.keras.utils.to_categorical(y_train, 6) \n",
    "y_val= tf.keras.utils.to_categorical(y_val, 6) "
   ]
  },
  {
   "cell_type": "markdown",
   "metadata": {},
   "source": [
    "# Deep Learning Model:"
   ]
  },
  {
   "cell_type": "code",
   "execution_count": 306,
   "metadata": {},
   "outputs": [],
   "source": [
    "from tensorflow.keras.models import Sequential \n",
    "from tensorflow.keras.layers import Dense, Activation \n",
    "\n",
    "output_dim = 6\n",
    "input_dim = x_train.shape[1]\n",
    "\n",
    "batch_size = 32 \n",
    "nb_epoch = 5"
   ]
  },
  {
   "cell_type": "markdown",
   "metadata": {},
   "source": [
    "# Model Architecture:"
   ]
  },
  {
   "cell_type": "code",
   "execution_count": 307,
   "metadata": {},
   "outputs": [
    {
     "name": "stdout",
     "output_type": "stream",
     "text": [
      "Model: \"functional_33\"\n",
      "_________________________________________________________________\n",
      "Layer (type)                 Output Shape              Param #   \n",
      "=================================================================\n",
      "input_17 (InputLayer)        [(None, 338)]             0         \n",
      "_________________________________________________________________\n",
      "dense_59 (Dense)             (None, 128)               43392     \n",
      "_________________________________________________________________\n",
      "dense_60 (Dense)             (None, 64)                8256      \n",
      "_________________________________________________________________\n",
      "dense_61 (Dense)             (None, 6)                 390       \n",
      "=================================================================\n",
      "Total params: 52,038\n",
      "Trainable params: 52,038\n",
      "Non-trainable params: 0\n",
      "_________________________________________________________________\n"
     ]
    }
   ],
   "source": [
    "import tensorflow as tf \n",
    "\n",
    "input1=tf.keras.Input(shape=(338))\n",
    "\n",
    "x=tf.keras.layers.Dense(128,activation='relu')(input1)\n",
    "\n",
    "x=tf.keras.layers.Dense(64,activation='relu')(x)\n",
    "\n",
    "x=tf.keras.layers.Dense(6,activation='softmax')(x)\n",
    "\n",
    "model=tf.keras.models.Model(inputs=input1,outputs=x)\n",
    "\n",
    "model.summary()"
   ]
  },
  {
   "cell_type": "code",
   "execution_count": 309,
   "metadata": {},
   "outputs": [
    {
     "data": {
      "image/png": "[encoded data removed]",
      "text/plain": [
       "<IPython.core.display.Image object>"
      ]
     },
     "execution_count": 309,
     "metadata": {},
     "output_type": "execute_result"
    }
   ],
   "source": [
    "tf.keras.utils.plot_model(model,show_shapes=True)"
   ]
  },
  {
   "cell_type": "markdown",
   "metadata": {},
   "source": [
    "# Model Training:"
   ]
  },
  {
   "cell_type": "code",
   "execution_count": 298,
   "metadata": {},
   "outputs": [],
   "source": [
    "model.compile(optimizer='adam',loss=tf.keras.losses.CategoricalCrossentropy(),metrics=['accuracy'])"
   ]
  },
  {
   "cell_type": "code",
   "execution_count": 299,
   "metadata": {},
   "outputs": [
    {
     "name": "stdout",
     "output_type": "stream",
     "text": [
      "Epoch 1/10\n",
      "1112/1112 [==============================] - 3s 3ms/step - loss: 0.0927 - accuracy: 0.9886 - val_loss: 3.3588e-04 - val_accuracy: 1.0000\n",
      "Epoch 2/10\n",
      "1112/1112 [==============================] - 3s 3ms/step - loss: 9.6393e-05 - accuracy: 1.0000 - val_loss: 2.7671e-05 - val_accuracy: 1.0000\n",
      "Epoch 3/10\n",
      "1112/1112 [==============================] - 3s 3ms/step - loss: 1.3566e-05 - accuracy: 1.0000 - val_loss: 1.1253e-05 - val_accuracy: 1.0000\n",
      "Epoch 4/10\n",
      "1112/1112 [==============================] - 3s 3ms/step - loss: 4.9880e-06 - accuracy: 1.0000 - val_loss: 4.8163e-06 - val_accuracy: 1.0000\n",
      "Epoch 5/10\n",
      "1112/1112 [==============================] - 3s 3ms/step - loss: 2.0508e-06 - accuracy: 1.0000 - val_loss: 2.6265e-06 - val_accuracy: 1.0000\n",
      "Epoch 6/10\n",
      "1112/1112 [==============================] - 3s 3ms/step - loss: 1.0270e-06 - accuracy: 1.0000 - val_loss: 1.0063e-06 - val_accuracy: 1.0000\n",
      "Epoch 7/10\n",
      "1112/1112 [==============================] - 3s 3ms/step - loss: 4.7015e-07 - accuracy: 1.0000 - val_loss: 6.0145e-07 - val_accuracy: 1.0000\n",
      "Epoch 8/10\n",
      "1112/1112 [==============================] - 3s 3ms/step - loss: 2.4495e-07 - accuracy: 1.0000 - val_loss: 2.7791e-07 - val_accuracy: 1.0000\n",
      "Epoch 9/10\n",
      "1112/1112 [==============================] - 3s 3ms/step - loss: 1.1108e-07 - accuracy: 1.0000 - val_loss: 1.5352e-07 - val_accuracy: 1.0000\n",
      "Epoch 10/10\n",
      "1112/1112 [==============================] - 4s 3ms/step - loss: 5.1303e-08 - accuracy: 1.0000 - val_loss: 8.5446e-08 - val_accuracy: 1.0000\n"
     ]
    },
    {
     "data": {
      "text/plain": [
       "<tensorflow.python.keras.callbacks.History at 0x7f8174afb190>"
      ]
     },
     "execution_count": 299,
     "metadata": {},
     "output_type": "execute_result"
    }
   ],
   "source": [
    "model.fit(x_train,y_train,epochs=10,batch_size=32,validation_data=(x_val,y_val))"
   ]
  }
 ],
 "metadata": {
  "kernelspec": {
   "display_name": "Python 3",
   "language": "python",
   "name": "python3"
  },
  "language_info": {
   "codemirror_mode": {
    "name": "ipython",
    "version": 3
   },
   "file_extension": ".py",
   "mimetype": "text/x-python",
   "name": "python",
   "nbconvert_exporter": "python",
   "pygments_lexer": "ipython3",
   "version": "3.8.3"
  }
 },
 "nbformat": 4,
 "nbformat_minor": 4
}
